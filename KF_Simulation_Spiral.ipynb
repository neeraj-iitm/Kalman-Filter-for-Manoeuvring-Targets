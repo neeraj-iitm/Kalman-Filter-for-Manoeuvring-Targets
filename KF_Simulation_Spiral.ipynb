{
  "nbformat": 4,
  "nbformat_minor": 0,
  "metadata": {
    "colab": {
      "name": "KF_Simulation_Spiral.ipynb",
      "provenance": [],
      "authorship_tag": "ABX9TyNfDXqWLD6bL44doU5J9/lk",
      "include_colab_link": true
    },
    "kernelspec": {
      "name": "python3",
      "display_name": "Python 3"
    }
  },
  "cells": [
    {
      "cell_type": "markdown",
      "metadata": {
        "id": "view-in-github",
        "colab_type": "text"
      },
      "source": [
        "<a href=\"https://colab.research.google.com/github/neeraj-iitm/Kalman-Filter-for-Manoeuvring-Targets/blob/main/KF_Simulation_Spiral.ipynb\" target=\"_parent\"><img src=\"https://colab.research.google.com/assets/colab-badge.svg\" alt=\"Open In Colab\"/></a>"
      ]
    },
    {
      "cell_type": "code",
      "metadata": {
        "id": "oj4LNdVbPosf"
      },
      "source": [
        ""
      ],
      "execution_count": 411,
      "outputs": []
    },
    {
      "cell_type": "markdown",
      "metadata": {
        "id": "P0HmbybJ2s4r"
      },
      "source": [
        "#  $ \\Huge \\ \\ -- \\ Simulation \\ --$\n"
      ]
    },
    {
      "cell_type": "markdown",
      "metadata": {
        "id": "ea2Piuqa2s4v"
      },
      "source": [
        "## Import\n",
        "Lets Start by importing necessary libraries,"
      ]
    },
    {
      "cell_type": "code",
      "metadata": {
        "id": "R4n-xceW2s4w"
      },
      "source": [
        "#---- Local Imports\n",
        "try :\n",
        "    from   utils.PQ_matrices       import P_cov, Q_cov\n",
        "    from   utils.transfer_function import *\n",
        "except :\n",
        "    pass\n",
        "\n",
        "#---- Library Imports\n",
        "import numpy as np\n",
        "from numpy import sin, cos, exp\n",
        "from scipy.linalg import inv\n",
        "\n",
        "\n",
        "#---- Plot imports\n",
        "import matplotlib.pyplot as plt\n"
      ],
      "execution_count": 412,
      "outputs": []
    },
    {
      "cell_type": "code",
      "metadata": {
        "cellView": "form",
        "id": "sUTFB5c02s4y",
        "colab": {
          "base_uri": "https://localhost:8080/",
          "height": 34
        },
        "outputId": "89fc21d9-daaa-4a4a-d043-699b35861ce4"
      },
      "source": [
        "#@title\n",
        "from IPython.display import HTML\n",
        "import random\n",
        "\n",
        "def hide_toggle(for_next=False):\n",
        "    this_cell = \"\"\"$('div.cell.code_cell.rendered.selected')\"\"\"\n",
        "    next_cell = this_cell + '.next()'\n",
        "\n",
        "    toggle_text = 'Toggle show/hide'  # text shown on toggle link\n",
        "    target_cell = this_cell  # target cell to control with toggle\n",
        "    js_hide_current = ''  # bit of JS to permanently hide code in current cell (only when toggling next cell)\n",
        "\n",
        "    if for_next:\n",
        "        target_cell = next_cell\n",
        "        toggle_text += ' next cell'\n",
        "        js_hide_current = this_cell + '.find(\"div.input\").hide();'\n",
        "\n",
        "    js_f_name = 'code_toggle_{}'.format(str(random.randint(1,2**64)))\n",
        "\n",
        "    html = \"\"\"\n",
        "        <script>\n",
        "            function {f_name}() {{\n",
        "                {cell_selector}.find('div.input').toggle();\n",
        "            }}\n",
        "\n",
        "            {js_hide_current}\n",
        "        </script>\n",
        "\n",
        "        <a href=\"javascript:{f_name}()\">{toggle_text}</a>\n",
        "    \"\"\".format(\n",
        "        f_name=js_f_name,\n",
        "        cell_selector=target_cell,\n",
        "        js_hide_current=js_hide_current, \n",
        "        toggle_text=toggle_text\n",
        "    )\n",
        "\n",
        "    return HTML(html)\n",
        "\n",
        "hide_toggle()\n"
      ],
      "execution_count": 413,
      "outputs": [
        {
          "output_type": "execute_result",
          "data": {
            "text/html": [
              "\n",
              "        <script>\n",
              "            function code_toggle_16986647086192965500() {\n",
              "                $('div.cell.code_cell.rendered.selected').find('div.input').toggle();\n",
              "            }\n",
              "\n",
              "            \n",
              "        </script>\n",
              "\n",
              "        <a href=\"javascript:code_toggle_16986647086192965500()\">Toggle show/hide</a>\n",
              "    "
            ],
            "text/plain": [
              "<IPython.core.display.HTML object>"
            ]
          },
          "metadata": {
            "tags": []
          },
          "execution_count": 413
        }
      ]
    },
    {
      "cell_type": "code",
      "metadata": {
        "id": "gNgYUzAq2s43",
        "colab": {
          "base_uri": "https://localhost:8080/",
          "height": 34
        },
        "outputId": "b05ca640-bb11-4a19-9c13-82bc2a116379"
      },
      "source": [
        "hide_toggle(for_next=True)"
      ],
      "execution_count": 414,
      "outputs": [
        {
          "output_type": "execute_result",
          "data": {
            "text/html": [
              "\n",
              "        <script>\n",
              "            function code_toggle_10437187687902939991() {\n",
              "                $('div.cell.code_cell.rendered.selected').next().find('div.input').toggle();\n",
              "            }\n",
              "\n",
              "            $('div.cell.code_cell.rendered.selected').find(\"div.input\").hide();\n",
              "        </script>\n",
              "\n",
              "        <a href=\"javascript:code_toggle_10437187687902939991()\">Toggle show/hide next cell</a>\n",
              "    "
            ],
            "text/plain": [
              "<IPython.core.display.HTML object>"
            ]
          },
          "metadata": {
            "tags": []
          },
          "execution_count": 414
        }
      ]
    },
    {
      "cell_type": "code",
      "metadata": {
        "scrolled": true,
        "cellView": "form",
        "id": "Py-oFRE12s44",
        "colab": {
          "base_uri": "https://localhost:8080/",
          "height": 34
        },
        "outputId": "f521f538-a112-4fb2-ac51-e9bd34deb2ab"
      },
      "source": [
        "#@title\n",
        "# In[41]:\n",
        "def q11(α, T):\n",
        "    coeff = 0.5/(α**5)\n",
        "    αT = α * T\n",
        "    rest = 1 - exp(-2*αT) + 2*αT + αT**3 * 2/3 - αT**2 * 2 - 4*αT*exp(-αT)\n",
        "    return rest*coeff\n",
        "\n",
        "def q12(α, T):\n",
        "    αT = α*T\n",
        "    coeff = 0.5/(α**4)\n",
        "    rest = exp(-2*αT) + 1 - 2*exp(-αT) + 2*αT*exp(-αT) - 2*αT + αT**2\n",
        "    return rest*coeff\n",
        "\n",
        "def q13(α,T):\n",
        "    αT = α*T\n",
        "    coeff = 0.5/(α**3)\n",
        "    rest = 1 - exp(-2*αT) - 2*αT*exp(-αT)\n",
        "    return rest*coeff\n",
        "    \n",
        "def q22(α,T):\n",
        "    αT = α*T\n",
        "    coeff = 0.5/(α**3)\n",
        "    rest = 4*exp(-αT) - 3 - exp(-2*αT) + 2*αT\n",
        "    return rest*coeff\n",
        "    \n",
        "def q23(α,T):\n",
        "    αT = α*T\n",
        "    coeff = 0.5/(α**2)\n",
        "    rest = exp(-2*αT) + 1 -2*exp(-αT)\n",
        "    return rest*coeff\n",
        "    \n",
        "def q33(α,T):\n",
        "    αT = α*T\n",
        "    coeff = 0.5/α\n",
        "    rest = 1 - exp(-2*αT)\n",
        "    return rest*coeff\n",
        "\n",
        "\n",
        "# In[80]:\n",
        "\n",
        "\n",
        "def Q_cov(σ_m, α=1e8,T=0.5):\n",
        "    \n",
        "    expectation_matrix = np.array([\n",
        "        \n",
        "        [q11(α,T), q12(α,T), q13(α,T)],\n",
        "        [q12(α,T), q22(α,T), q23(α,T)],\n",
        "        [q13(α,T), q23(α,T), q33(α,T)]\n",
        "    \n",
        "    ]) \n",
        "    \n",
        "    return 2*α*expectation_matrix*(σ_m**2)\n",
        "    \n",
        "    \n",
        "\n",
        "\n",
        "# In[78]:\n",
        "\n",
        "\n",
        "def Q_approximated(σ_m, α=0.25,T=0.05):\n",
        "    \n",
        "    expectation_matrix = np.array([\n",
        "        \n",
        "        [T**5 /20, T**4 /20, T**3 /6],\n",
        "        [T**4 /8 , T**3 /3 , T**2/2 ],\n",
        "        [T**3 /6 , T**2 /2 , T]\n",
        "        \n",
        "    ])\n",
        "    \n",
        "    return 2*α*expectation_matrix*σ_m**2\n",
        "    \n",
        "\n",
        "\n",
        "\n",
        "def P22(σ_r,σ_m,α,T ):\n",
        "    a = 2*(σ_r/T)**2 \n",
        "    b = (σ_m / (α**2 * T))**2\n",
        "    c = 2 - (α*T)**2 + (α*T)**3 *2/3 - 2*exp(-α*T) - 2 *α*T*exp(-α*T)\n",
        "    return a + (b*c)\n",
        "\n",
        "def P23(σ_r,σ_m,α,T):\n",
        "    a = σ_m**2 /(T*α**2)\n",
        "    b= (α*T)**3 *2/3 - 2*exp(-α*T) - 2 *α*T*exp(-α*T)\n",
        "    return a*b\n",
        "\n",
        "\n",
        "\n",
        "def P_cov(σ_r,σ_m,α,T):\n",
        "    expectation_matrix = np.array([\n",
        "        \n",
        "        [σ_r**2, σ_r**2/T, 0],\n",
        "        [σ_r**2/T,P22(σ_r,σ_m,α,T), P23(σ_r,σ_m,α,T)],\n",
        "        [0,P23(σ_r,σ_m,α,T), σ_m**2]\n",
        "        \n",
        "    ])\n",
        "    return expectation_matrix\n",
        "#!/usr/bin/env python\n",
        "# coding: utf-8\n",
        "\n",
        "# In[16]:\n",
        "\n",
        "def transfer_function(α,T):\n",
        "    \n",
        "    phi = np.array([\n",
        "        \n",
        "        [1, T, (1/α**2)*(-1 + exp(-α*T) + α*T)],\n",
        "        [0,1, (1/α)*(1-exp(-α*T))],\n",
        "        [0,0, exp(-α*T)]\n",
        "        \n",
        "    ])\n",
        "    return phi\n",
        "\n",
        "def tranfer_function_approximated(T):\n",
        "    \n",
        "    phi = np.array([\n",
        "        \n",
        "        [1,T,T**2 /2],\n",
        "        [0,1, T],\n",
        "        [0,0,1]\n",
        "        \n",
        "    ])\n",
        "\n",
        "\n",
        "# In[ ]:\n",
        "\n",
        "\n",
        "\n",
        "\n",
        "\n",
        "hide_toggle()"
      ],
      "execution_count": 415,
      "outputs": [
        {
          "output_type": "execute_result",
          "data": {
            "text/html": [
              "\n",
              "        <script>\n",
              "            function code_toggle_8822378508533312310() {\n",
              "                $('div.cell.code_cell.rendered.selected').find('div.input').toggle();\n",
              "            }\n",
              "\n",
              "            \n",
              "        </script>\n",
              "\n",
              "        <a href=\"javascript:code_toggle_8822378508533312310()\">Toggle show/hide</a>\n",
              "    "
            ],
            "text/plain": [
              "<IPython.core.display.HTML object>"
            ]
          },
          "metadata": {
            "tags": []
          },
          "execution_count": 415
        }
      ]
    },
    {
      "cell_type": "markdown",
      "metadata": {
        "id": "VB1hnl0g2s46"
      },
      "source": [
        "## Intiate Variables and Compute Matrices\n",
        "Lets declare our variables and find out the required Matrices. The values are taken directly from research paper."
      ]
    },
    {
      "cell_type": "markdown",
      "metadata": {
        "id": "VMqC_Rq52s46"
      },
      "source": [
        "$\\sigma _m ^2 = \\frac{A_{max}^2}{3}\\times(1+4P_{max} - P_o)$"
      ]
    },
    {
      "cell_type": "markdown",
      "metadata": {
        "id": "4lgwxh0N2s47"
      },
      "source": [
        "$\\Phi(T, \\alpha)=\\left[\\begin{array}{ccc}\n",
        "1 & T & \\frac{1}{\\alpha^{2}}\\left[-1+\\alpha T+e^{-\\alpha T}\\right] \\\\\n",
        "0 & 1 & \\frac{1}{\\alpha}\\left[1-e^{-\\alpha T}\\right] \\\\\n",
        "0 & 0 & e^{-a T}\n",
        "\\end{array}\\right]\\quad \\quad \\quad \\quad$\n",
        "\n",
        "\n",
        "$Q(k)=E\\left[u(k) u^{T}(k)\\right]=2 \\alpha \\sigma_{m}^{2}\\left[\\begin{array}{ccc}\n",
        "q 11 & q 12 & q 13 \\\\\n",
        "q 12 & q 22 & q 23 \\\\\n",
        "q 13 & q 23 & 433\n",
        "\\end{array}\\right]$"
      ]
    },
    {
      "cell_type": "markdown",
      "metadata": {
        "id": "nQ9Bs0oo55ZQ"
      },
      "source": [
        "This report is just to show if the filter is able to detect acceleration or not, so all that matters is whether the contours are matching or not, so I am going on without adding measurement noise to the measurements."
      ]
    },
    {
      "cell_type": "code",
      "metadata": {
        "id": "lDKttFeT2s49"
      },
      "source": [
        "# This becomes irrelevant for present report. and affects only initial guess. \n",
        "# More important is Phi matrix which doesnt depend on sigmas. Only relevant paramter her is alpha and T.\n",
        "Amax =  4*9.8\n",
        "Pmax = 0.9\n",
        "P_o = 0.1\n",
        "\n",
        "T = 1\n",
        "α = 0.1"
      ],
      "execution_count": 416,
      "outputs": []
    },
    {
      "cell_type": "code",
      "metadata": {
        "id": "HXpPGLrN2s4-"
      },
      "source": [
        "σ_m = (((Amax**2)/3)*(1+4*Pmax - P_o))**0.5\n",
        "σ_r = 60\n",
        "\n",
        "P = P_cov(σ_r,σ_m,α,T)\n",
        "Q = Q_cov(σ_m, α,T)\n",
        "R = np.array([[σ_r**2]])\n",
        "\n",
        "F = transfer_function(α,T)\n",
        "H = np.array([[1., 0., 0.]])\n",
        "x = np.array([[0, 0, 0 ]]).T"
      ],
      "execution_count": 417,
      "outputs": []
    },
    {
      "cell_type": "markdown",
      "metadata": {
        "id": "3DncAzSS2s4_"
      },
      "source": [
        "The objective of the paper was to find out the $\\text{Transition matrix} \\ \\Phi$ and the covariance matrices for the given problem. This snippet executes the Kalman Filter using the respective $P$ and $Q$ covariance matrices from paper."
      ]
    },
    {
      "cell_type": "code",
      "metadata": {
        "id": "P7CzVVtV2s4_"
      },
      "source": [
        "P = np.array([\n",
        "    [P[0][0], P[0][1], P[0][2],  0,      0,       0    ],\n",
        "    [P[1][0], P[1][1], P[1][2],  0,      0,       0    ],\n",
        "    [P[2][0], P[2][1], P[2][2],  0,      0,       0    ],\n",
        "    [    0,     0,      0,    P[0][0], P[0][1], P[0][2]],\n",
        "    [    0,     0,      0,    P[1][0], P[1][1], P[1][2]],\n",
        "    [    0,     0,      0,    P[2][0], P[2][1], P[2][2]], \n",
        "    \n",
        "    ])\n",
        "\n"
      ],
      "execution_count": 418,
      "outputs": []
    },
    {
      "cell_type": "code",
      "metadata": {
        "id": "6zg1dRrP2s4_"
      },
      "source": [
        "Q = np.array([\n",
        "    [Q[0][0], Q[0][1], Q[0][2],  0,       0,       0   ],\n",
        "    [Q[1][0], Q[1][1], Q[1][2],  0,       0,       0   ],\n",
        "    [Q[2][0], Q[2][1], Q[2][2],  0,       0,       0   ],\n",
        "    [    0,     0,      0,    Q[0][0], Q[0][1], Q[0][2]],\n",
        "    [    0,     0,      0,    Q[1][0], Q[1][1], Q[1][2]],\n",
        "    [    0,     0,      0,    Q[2][0], Q[2][1], Q[2][2]], \n",
        "    \n",
        "    ])\n"
      ],
      "execution_count": 419,
      "outputs": []
    },
    {
      "cell_type": "code",
      "metadata": {
        "id": "7d4lewJE2s5A"
      },
      "source": [
        "F = np.array([\n",
        "    [F[0][0], F[0][1], F[0][2],  0,       0,       0   ],\n",
        "    [F[1][0], F[1][1], F[1][2],  0,       0,       0   ],\n",
        "    [F[2][0], F[2][1], F[2][2],  0,       0,       0   ],\n",
        "    [    0,     0,      0,    F[0][0], F[0][1], F[0][2]],\n",
        "    [    0,     0,      0,    F[1][0], F[1][1], F[1][2]],\n",
        "    [    0,     0,      0,    F[2][0], F[2][1], F[2][2]], \n",
        "    \n",
        "    ])\n"
      ],
      "execution_count": 420,
      "outputs": []
    },
    {
      "cell_type": "code",
      "metadata": {
        "id": "iWEy9jUy2s5B"
      },
      "source": [
        "H = np.array([\n",
        "    \n",
        "    [1,0,0,0,0,0],\n",
        "    [0,0,0,1,0,0]\n",
        "])"
      ],
      "execution_count": 421,
      "outputs": []
    },
    {
      "cell_type": "code",
      "metadata": {
        "id": "HFo6c7nf2s5C"
      },
      "source": [
        "R = np.array([\n",
        "    \n",
        "    [ σ_r**2,    0  ],\n",
        "    [   0,    σ_r**2]\n",
        "    \n",
        "])\n"
      ],
      "execution_count": 422,
      "outputs": []
    },
    {
      "cell_type": "markdown",
      "metadata": {
        "id": "SxfyXA_l2s5C"
      },
      "source": [
        "## Generate Measurements"
      ]
    },
    {
      "cell_type": "markdown",
      "metadata": {
        "id": "-WeH1Zo265gA"
      },
      "source": [
        "Data is generated only for position. Velocity and Acceleration data is not generated."
      ]
    },
    {
      "cell_type": "code",
      "metadata": {
        "id": "-0iekNgV2s5C"
      },
      "source": [
        "# consttraj = [0]*500\n",
        "# θ = np.arange(-3.14/2, 3.14/2, 0.1)\n",
        "# θ = list(θ) + consttraj# + list(θ)"
      ],
      "execution_count": 423,
      "outputs": []
    },
    {
      "cell_type": "code",
      "metadata": {
        "id": "7qLHRyJz2s5D"
      },
      "source": [
        "# coeff1 = 1\n",
        "# coeff2 = 1\n",
        "# θ = [ 0.1 * t**2 for t in np.arange(0, np.pi*10, 0.01)]\n",
        "# r = [ theta for theta in θ]\n",
        "\n",
        "# xc = [r[i]*np.cos(j) for (i,j) in enumerate(θ)]\n",
        "# yc = [r[i]*np.sin(j) for (i,j) in enumerate(θ)]\n",
        "\n",
        "xc = [t**2 for t in np.arange(0,2500,0.1)]\n",
        "yc = [t for t in xc]\n",
        "θ = xc\n",
        "r = yc\n",
        "merged = []\n",
        "for i in range(len(xc)):\n",
        "    merged.append([[xc[i]],[yc[i]]])\n",
        "    "
      ],
      "execution_count": 424,
      "outputs": []
    },
    {
      "cell_type": "markdown",
      "metadata": {
        "id": "UVkfUa7l2s5D"
      },
      "source": [
        "## $ \\textbf{Apply Kalman  Filter}$\n"
      ]
    },
    {
      "cell_type": "code",
      "metadata": {
        "id": "M_gOe9Q62s5D"
      },
      "source": [
        "x = np.array([[0, 0, 0, 0, 0, 0]]).T"
      ],
      "execution_count": 425,
      "outputs": []
    },
    {
      "cell_type": "code",
      "metadata": {
        "scrolled": true,
        "id": "BXPaLYhh2s5D"
      },
      "source": [
        "xs =[]\n",
        "cov= []\n",
        "\n",
        "for z in merged:\n",
        "    \n",
        "    # predict\n",
        "    x = F @ x\n",
        "    P = F @ P @ F.T + Q\n",
        "    \n",
        "    #update\n",
        "    S = H @ P @ H.T + R\n",
        "    K = P @ H.T @ inv(S)\n",
        "    y = z - H @ x\n",
        "    x += K @ y\n",
        "    P = P - K @ H @ P\n",
        "    \n",
        "    xs.append(x)\n",
        "    cov.append(P)\n",
        "\n",
        "xs, cov = np.array(xs), np.array(cov)"
      ],
      "execution_count": 426,
      "outputs": []
    },
    {
      "cell_type": "code",
      "metadata": {
        "id": "NWs-eV632s5E",
        "colab": {
          "base_uri": "https://localhost:8080/",
          "height": 34
        },
        "cellView": "form",
        "outputId": "abb8218c-06e1-4ccb-cc18-ca65be31935e"
      },
      "source": [
        "#@title\n",
        "def plot_all(data1,data2,data3,title1,title2,title3, time=True):\n",
        "    plt.figure(figsize=(15,5))\n",
        "    \n",
        "    plt.subplot(1, 3, 1)\n",
        "    plt.plot(data1)\n",
        "    plt.xlabel(\"time\")\n",
        "    plt.title(title1, fontsize =15)\n",
        "    \n",
        "    plt.subplot(1, 3, 2)\n",
        "    plt.plot(data2)\n",
        "    plt.title(title2, fontsize =15)\n",
        "    plt.xlabel(\"time\")\n",
        "    \n",
        "    plt.subplot(1, 3, 3)\n",
        "    plt.plot(data3)\n",
        "    plt.xlabel(\"time\")\n",
        "    plt.title(title3, fontsize =15)\n",
        "    plt.show()\n",
        "hide_toggle()"
      ],
      "execution_count": 427,
      "outputs": [
        {
          "output_type": "execute_result",
          "data": {
            "text/html": [
              "\n",
              "        <script>\n",
              "            function code_toggle_12692850540240691023() {\n",
              "                $('div.cell.code_cell.rendered.selected').find('div.input').toggle();\n",
              "            }\n",
              "\n",
              "            \n",
              "        </script>\n",
              "\n",
              "        <a href=\"javascript:code_toggle_12692850540240691023()\">Toggle show/hide</a>\n",
              "    "
            ],
            "text/plain": [
              "<IPython.core.display.HTML object>"
            ]
          },
          "metadata": {
            "tags": []
          },
          "execution_count": 427
        }
      ]
    },
    {
      "cell_type": "code",
      "metadata": {
        "id": "GeJPOdOb2s5F",
        "colab": {
          "base_uri": "https://localhost:8080/",
          "height": 357
        },
        "outputId": "456d154c-a44d-4e96-e9b1-ae5bbd57974d"
      },
      "source": [
        "x_fil = []\n",
        "y_fil = []\n",
        "for each_state_vec in xs:\n",
        "    x_fil.append(each_state_vec[0])\n",
        "    y_fil.append(each_state_vec[3])\n",
        "\n",
        "plt.figure(figsize=(15,5))\n",
        "plt.subplot(1, 2, 1)\n",
        "plt.plot(xc, yc)\n",
        "plt.xlabel(\"x\", fontsize=15)\n",
        "plt.ylabel(\"y\", fontsize=15)\n",
        "plt.title('Position Measurements', fontsize=15)\n",
        "plt.subplot(1, 2, 2)\n",
        "plt.plot(x_fil, y_fil)\n",
        "plt.xlabel(\"x\", fontsize=15)\n",
        "plt.ylabel(\"y\", fontsize=15)\n",
        "plt.title('Filtered Position', fontsize=15)\n",
        "plt.show()"
      ],
      "execution_count": 428,
      "outputs": [
        {
          "output_type": "display_data",
          "data": {
            "image/png": "[encoded data removed]",
            "text/plain": [
              "<Figure size 1080x360 with 2 Axes>"
            ]
          },
          "metadata": {
            "tags": [],
            "needs_background": "light"
          }
        }
      ]
    },
    {
      "cell_type": "markdown",
      "metadata": {
        "id": "JOlHgOvM2s5F"
      },
      "source": [
        "======================================================================================================"
      ]
    },
    {
      "cell_type": "code",
      "metadata": {
        "id": "jafwrptR2s5G",
        "colab": {
          "base_uri": "https://localhost:8080/",
          "height": 364
        },
        "outputId": "288d3ed2-f7b4-4f42-8671-d3faa0da2c23"
      },
      "source": [
        "v = []\n",
        "vx_fil = []\n",
        "vy_fil = []\n",
        "for kk in xs:\n",
        "    vx_fil.append(kk[1])\n",
        "    vy_fil.append(kk[4])    \n",
        "    v.append((kk[1]**2 + kk[4]**2)**0.5)\n",
        "plot_all(v,vx_fil,vy_fil,r\"$V = \\sqrt{V_x^2 + V_y^2}$\",r\"$V_x$\",r\"$V_y$\")"
      ],
      "execution_count": 429,
      "outputs": [
        {
          "output_type": "display_data",
          "data": {
            "image/png": "[encoded data removed]",
            "text/plain": [
              "<Figure size 1080x360 with 3 Axes>"
            ]
          },
          "metadata": {
            "tags": [],
            "needs_background": "light"
          }
        }
      ]
    },
    {
      "cell_type": "code",
      "metadata": {
        "id": "D0Zr_e-X2s5H",
        "colab": {
          "base_uri": "https://localhost:8080/",
          "height": 417
        },
        "outputId": "289f08a4-60b7-4800-8911-21068c82d666"
      },
      "source": [
        "v_pol = []\n",
        "vθ    = []\n",
        "vr    = []\n",
        "\n",
        "for (i,itr) in enumerate(θ):\n",
        "\n",
        "    trans = np.array([\n",
        "        [cos(itr),  -r[i]*sin(itr)],\n",
        "        [sin(itr),   r[i]*cos(itr)]\n",
        "            ])\n",
        "    v_vec_cart = np.array([vx_fil[i], vy_fil[i]])\n",
        "    try :\n",
        "      v_vec = inv(trans)@v_vec_cart\n",
        "    except:\n",
        "      v_vec = [0,0]\n",
        "    vr.append(v_vec[0])\n",
        "    vθ.append(v_vec[1])\n",
        "    v_pol.append((v_vec[0]**2+v_vec[1]**2)**0.5)\n",
        "\n",
        "plot_all(v_pol, vr, vθ, r\"$V = \\sqrt{V_\\theta^2 + V_r^2}$\" , r\"$\\dot{r}$\", r\"$\\dot{\\theta}$\")    "
      ],
      "execution_count": 430,
      "outputs": [
        {
          "output_type": "stream",
          "text": [
            "/usr/local/lib/python3.6/dist-packages/numpy/core/_asarray.py:136: VisibleDeprecationWarning: Creating an ndarray from ragged nested sequences (which is a list-or-tuple of lists-or-tuples-or ndarrays with different lengths or shapes) is deprecated. If you meant to do this, you must specify 'dtype=object' when creating the ndarray\n",
            "  return array(a, dtype, copy=False, order=order, subok=True)\n"
          ],
          "name": "stderr"
        },
        {
          "output_type": "display_data",
          "data": {
            "image/png": "[encoded data removed]",
            "text/plain": [
              "<Figure size 1080x360 with 3 Axes>"
            ]
          },
          "metadata": {
            "tags": [],
            "needs_background": "light"
          }
        }
      ]
    },
    {
      "cell_type": "code",
      "metadata": {
        "colab": {
          "base_uri": "https://localhost:8080/"
        },
        "id": "2cZAK0AKN5AZ",
        "outputId": "d64b5a58-7e45-42a4-a1ed-2448eaade6df"
      },
      "source": [
        "np.mean(vθ)"
      ],
      "execution_count": 431,
      "outputs": [
        {
          "output_type": "stream",
          "text": [
            "/usr/local/lib/python3.6/dist-packages/numpy/core/_asarray.py:136: VisibleDeprecationWarning: Creating an ndarray from ragged nested sequences (which is a list-or-tuple of lists-or-tuples-or ndarrays with different lengths or shapes) is deprecated. If you meant to do this, you must specify 'dtype=object' when creating the ndarray\n",
            "  return array(a, dtype, copy=False, order=order, subok=True)\n"
          ],
          "name": "stderr"
        },
        {
          "output_type": "execute_result",
          "data": {
            "text/plain": [
              "array([0.00011403])"
            ]
          },
          "metadata": {
            "tags": []
          },
          "execution_count": 431
        }
      ]
    },
    {
      "cell_type": "markdown",
      "metadata": {
        "id": "mQJLmKl1N4v3"
      },
      "source": [
        ""
      ]
    },
    {
      "cell_type": "markdown",
      "metadata": {
        "id": "oC53dPeD2s5J"
      },
      "source": [
        "==================================================================================================="
      ]
    },
    {
      "cell_type": "code",
      "metadata": {
        "id": "ph3Gf40m2s5J",
        "colab": {
          "base_uri": "https://localhost:8080/",
          "height": 364
        },
        "outputId": "2a095eaa-3436-4251-d90f-9261034e1315"
      },
      "source": [
        "a, ax_fil, ay_fil = [],[],[]\n",
        "for every_a in xs:\n",
        "    ax_fil.append(every_a[2])\n",
        "    ay_fil.append(every_a[5])\n",
        "    a.append((every_a[2][0]**2 + every_a[5][0]**2)**0.5)\n",
        "\n",
        "plot_all(a,ax_fil,ay_fil,r\"$a = \\sqrt{a_x^2 + a_y^2}$\",r\"$a_x$\",r\"$a_y$\")    "
      ],
      "execution_count": 432,
      "outputs": [
        {
          "output_type": "display_data",
          "data": {
            "image/png": "[encoded data removed]",
            "text/plain": [
              "<Figure size 1080x360 with 3 Axes>"
            ]
          },
          "metadata": {
            "tags": [],
            "needs_background": "light"
          }
        }
      ]
    },
    {
      "cell_type": "code",
      "metadata": {
        "id": "RNy0rmhd2s5K",
        "colab": {
          "base_uri": "https://localhost:8080/",
          "height": 417
        },
        "outputId": "7b52ca7f-d911-489d-8a29-0e70814a900d"
      },
      "source": [
        "a_pol, aθ, ar = [],[],[]\n",
        "for (i,itr) in enumerate(θ):\n",
        "\n",
        "    trans = np.array([\n",
        "        [cos(itr),             -r[i]*sin(itr)],\n",
        "        [sin(itr),   r[i]* cos(itr)]\n",
        "            ])\n",
        "    a_vec_cart = np.array([ax_fil[i], ay_fil[i]])\n",
        "    try :\n",
        "      transf_pol = inv(trans)\n",
        "    except:\n",
        "      transf_pol = [0,0]\n",
        "    \n",
        "    other_tranf = np.array([\n",
        "\n",
        "            [-1*sin(itr), -1*cos(itr)],\n",
        "            [cos(itr) , -1*sin(itr)]                \n",
        "            \n",
        "    ])\n",
        "    dot_vec = np.array([ 2*vr[i]*vθ[i], r[i]*(vθ[i]**2) ])\n",
        "    pol_matrix =a_vec_cart - other_tranf @ dot_vec\n",
        "    a_vec = transf_pol @ pol_matrix\n",
        "    ar.append(a_vec[0])\n",
        "    aθ.append(a_vec[1])\n",
        "    a_pol.append((a_vec[0]**2 + a_vec[1]**2)**0.5)\n",
        "    \n",
        "plot_all(a_pol,ar,aθ,r\"$a = \\sqrt{a_\\theta^2 + a_r^2}$\",r\"$\\ddot{r}$\",r\"$\\ddot{\\theta}$\")    "
      ],
      "execution_count": 433,
      "outputs": [
        {
          "output_type": "stream",
          "text": [
            "/usr/local/lib/python3.6/dist-packages/numpy/core/_asarray.py:136: VisibleDeprecationWarning: Creating an ndarray from ragged nested sequences (which is a list-or-tuple of lists-or-tuples-or ndarrays with different lengths or shapes) is deprecated. If you meant to do this, you must specify 'dtype=object' when creating the ndarray\n",
            "  return array(a, dtype, copy=False, order=order, subok=True)\n"
          ],
          "name": "stderr"
        },
        {
          "output_type": "display_data",
          "data": {
            "image/png": "[encoded data removed]",
            "text/plain": [
              "<Figure size 1080x360 with 3 Axes>"
            ]
          },
          "metadata": {
            "tags": [],
            "needs_background": "light"
          }
        }
      ]
    },
    {
      "cell_type": "code",
      "metadata": {
        "colab": {
          "base_uri": "https://localhost:8080/"
        },
        "id": "qN_rtbbYfJPi",
        "outputId": "776b36b6-ab33-4766-c2be-ec2c65f60aa5"
      },
      "source": [
        "np.mean(aθ[20:])"
      ],
      "execution_count": 434,
      "outputs": [
        {
          "output_type": "execute_result",
          "data": {
            "text/plain": [
              "1.5635095063314403e-06"
            ]
          },
          "metadata": {
            "tags": []
          },
          "execution_count": 434
        }
      ]
    },
    {
      "cell_type": "markdown",
      "metadata": {
        "id": "-uXHhVcQfFNC"
      },
      "source": [
        "np.mean(aθ)"
      ]
    },
    {
      "cell_type": "markdown",
      "metadata": {
        "id": "SAr-ZICgY2-Y"
      },
      "source": [
        "Lets analyze the outcomes. We will be comparing the manoeuvre predictions with the analyticaal solution."
      ]
    },
    {
      "cell_type": "markdown",
      "metadata": {
        "id": "PULLPDoqdwuy"
      },
      "source": [
        "So the spiral trajectory in this example is $r = \\theta$ i.e. radius changes in perfect correlation with $\\theta$. In our example we have $\\dot{\\theta}=\\small 0.1$ . "
      ]
    },
    {
      "cell_type": "markdown",
      "metadata": {
        "id": "vQRgRwSQdwF3"
      },
      "source": [
        "thus $a_r = \\ddot{r}-r \\dot{\\theta}^{2} = -r\\times 0.1^2 $. So our prediction of radial accelration should decrease as radius increases and thus time. Also, $a_\\theta =  2 \\frac{\\dot{r} \\dot{\\theta}}{r}+\\ddot{\\theta}= 2\\times 0.1 \\times 0.1 + 0 = 0.02$ which means that tangetial acceleration should be constant. These two key points are evident from plots above."
      ]
    },
    {
      "cell_type": "code",
      "metadata": {
        "id": "p6U72_xJmpx6",
        "colab": {
          "base_uri": "https://localhost:8080/"
        },
        "outputId": "9430bb3e-053c-4b4b-e2f9-b0ba9f2d9697"
      },
      "source": [
        "np.mean(a[5:])"
      ],
      "execution_count": 435,
      "outputs": [
        {
          "output_type": "execute_result",
          "data": {
            "text/plain": [
              "0.022188070480674928"
            ]
          },
          "metadata": {
            "tags": []
          },
          "execution_count": 435
        }
      ]
    },
    {
      "cell_type": "code",
      "metadata": {
        "id": "NQsAjPLsqEjF",
        "colab": {
          "base_uri": "https://localhost:8080/"
        },
        "outputId": "7e5033bc-1c3a-434e-c237-be8013a145dc"
      },
      "source": [
        "((ar[-1]-ar[0])/len(ar))[0]"
      ],
      "execution_count": 436,
      "outputs": [
        {
          "output_type": "execute_result",
          "data": {
            "text/plain": [
              "2.503800424316061e-06"
            ]
          },
          "metadata": {
            "tags": []
          },
          "execution_count": 436
        }
      ]
    },
    {
      "cell_type": "code",
      "metadata": {
        "id": "jSqefIdcqQaP"
      },
      "source": [
        ""
      ],
      "execution_count": 436,
      "outputs": []
    }
  ]
}