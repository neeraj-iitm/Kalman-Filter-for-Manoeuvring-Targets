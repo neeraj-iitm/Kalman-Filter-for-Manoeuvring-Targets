{
  "nbformat": 4,
  "nbformat_minor": 0,
  "metadata": {
    "colab": {
      "name": "KF_Simulation_Circle.ipynb",
      "provenance": [],
      "authorship_tag": "ABX9TyPMjhxBSuvnC4ppe9Su98EE",
      "include_colab_link": true
    },
    "kernelspec": {
      "name": "python3",
      "display_name": "Python 3"
    }
  },
  "cells": [
    {
      "cell_type": "markdown",
      "metadata": {
        "id": "view-in-github",
        "colab_type": "text"
      },
      "source": [
        "<a href=\"https://colab.research.google.com/github/neeraj-iitm/Kalman-Filter-for-Manoeuvring-Targets/blob/main/KF_Simulation_Circle.ipynb\" target=\"_parent\"><img src=\"https://colab.research.google.com/assets/colab-badge.svg\" alt=\"Open In Colab\"/></a>"
      ]
    },
    {
      "cell_type": "code",
      "metadata": {
        "id": "ur-rez1eIDHS"
      },
      "source": [
        ""
      ],
      "execution_count": 101,
      "outputs": []
    },
    {
      "cell_type": "markdown",
      "metadata": {
        "id": "P0HmbybJ2s4r"
      },
      "source": [
        "#  $ \\Huge \\ \\ -- \\ Simulation \\ --$\n"
      ]
    },
    {
      "cell_type": "markdown",
      "metadata": {
        "id": "ea2Piuqa2s4v"
      },
      "source": [
        "## Import\n",
        "Lets Start by importing necessary libraries,"
      ]
    },
    {
      "cell_type": "code",
      "metadata": {
        "id": "R4n-xceW2s4w"
      },
      "source": [
        "#---- Local Imports\n",
        "try :\n",
        "    from   utils.PQ_matrices       import P_cov, Q_cov\n",
        "    from   utils.transfer_function import *\n",
        "except :\n",
        "    pass\n",
        "\n",
        "#---- Library Imports\n",
        "import numpy as np\n",
        "from numpy import sin, cos, exp\n",
        "from scipy.linalg import inv\n",
        "\n",
        "\n",
        "#---- Plot imports\n",
        "import matplotlib.pyplot as plt\n"
      ],
      "execution_count": 102,
      "outputs": []
    },
    {
      "cell_type": "code",
      "metadata": {
        "cellView": "form",
        "id": "sUTFB5c02s4y",
        "colab": {
          "base_uri": "https://localhost:8080/",
          "height": 34
        },
        "outputId": "16daa4e2-d70c-4f0c-fb54-37601dc9d00b"
      },
      "source": [
        "#@title\n",
        "from IPython.display import HTML\n",
        "import random\n",
        "\n",
        "def hide_toggle(for_next=False):\n",
        "    this_cell = \"\"\"$('div.cell.code_cell.rendered.selected')\"\"\"\n",
        "    next_cell = this_cell + '.next()'\n",
        "\n",
        "    toggle_text = 'Toggle show/hide'  # text shown on toggle link\n",
        "    target_cell = this_cell  # target cell to control with toggle\n",
        "    js_hide_current = ''  # bit of JS to permanently hide code in current cell (only when toggling next cell)\n",
        "\n",
        "    if for_next:\n",
        "        target_cell = next_cell\n",
        "        toggle_text += ' next cell'\n",
        "        js_hide_current = this_cell + '.find(\"div.input\").hide();'\n",
        "\n",
        "    js_f_name = 'code_toggle_{}'.format(str(random.randint(1,2**64)))\n",
        "\n",
        "    html = \"\"\"\n",
        "        <script>\n",
        "            function {f_name}() {{\n",
        "                {cell_selector}.find('div.input').toggle();\n",
        "            }}\n",
        "\n",
        "            {js_hide_current}\n",
        "        </script>\n",
        "\n",
        "        <a href=\"javascript:{f_name}()\">{toggle_text}</a>\n",
        "    \"\"\".format(\n",
        "        f_name=js_f_name,\n",
        "        cell_selector=target_cell,\n",
        "        js_hide_current=js_hide_current, \n",
        "        toggle_text=toggle_text\n",
        "    )\n",
        "\n",
        "    return HTML(html)\n",
        "\n",
        "hide_toggle()\n"
      ],
      "execution_count": 103,
      "outputs": [
        {
          "output_type": "execute_result",
          "data": {
            "text/html": [
              "\n",
              "        <script>\n",
              "            function code_toggle_8137979079097767528() {\n",
              "                $('div.cell.code_cell.rendered.selected').find('div.input').toggle();\n",
              "            }\n",
              "\n",
              "            \n",
              "        </script>\n",
              "\n",
              "        <a href=\"javascript:code_toggle_8137979079097767528()\">Toggle show/hide</a>\n",
              "    "
            ],
            "text/plain": [
              "<IPython.core.display.HTML object>"
            ]
          },
          "metadata": {
            "tags": []
          },
          "execution_count": 103
        }
      ]
    },
    {
      "cell_type": "code",
      "metadata": {
        "id": "gNgYUzAq2s43",
        "colab": {
          "base_uri": "https://localhost:8080/",
          "height": 34
        },
        "outputId": "ae59997b-aad7-4276-acef-7367c3651a17"
      },
      "source": [
        "hide_toggle(for_next=True)"
      ],
      "execution_count": 104,
      "outputs": [
        {
          "output_type": "execute_result",
          "data": {
            "text/html": [
              "\n",
              "        <script>\n",
              "            function code_toggle_17069228436709579779() {\n",
              "                $('div.cell.code_cell.rendered.selected').next().find('div.input').toggle();\n",
              "            }\n",
              "\n",
              "            $('div.cell.code_cell.rendered.selected').find(\"div.input\").hide();\n",
              "        </script>\n",
              "\n",
              "        <a href=\"javascript:code_toggle_17069228436709579779()\">Toggle show/hide next cell</a>\n",
              "    "
            ],
            "text/plain": [
              "<IPython.core.display.HTML object>"
            ]
          },
          "metadata": {
            "tags": []
          },
          "execution_count": 104
        }
      ]
    },
    {
      "cell_type": "code",
      "metadata": {
        "scrolled": true,
        "cellView": "form",
        "id": "Py-oFRE12s44",
        "colab": {
          "base_uri": "https://localhost:8080/",
          "height": 34
        },
        "outputId": "4b8aa9ba-41a5-4242-a786-dbfc3ae4d329"
      },
      "source": [
        "#@title\n",
        "# In[41]:\n",
        "def q11(α, T):\n",
        "    coeff = 0.5/(α**5)\n",
        "    αT = α * T\n",
        "    rest = 1 - exp(-2*αT) + 2*αT + αT**3 * 2/3 - αT**2 * 2 - 4*αT*exp(-αT)\n",
        "    return rest*coeff\n",
        "\n",
        "def q12(α, T):\n",
        "    αT = α*T\n",
        "    coeff = 0.5/(α**4)\n",
        "    rest = exp(-2*αT) + 1 - 2*exp(-αT) + 2*αT*exp(-αT) - 2*αT + αT**2\n",
        "    return rest*coeff\n",
        "\n",
        "def q13(α,T):\n",
        "    αT = α*T\n",
        "    coeff = 0.5/(α**3)\n",
        "    rest = 1 - exp(-2*αT) - 2*αT*exp(-αT)\n",
        "    return rest*coeff\n",
        "    \n",
        "def q22(α,T):\n",
        "    αT = α*T\n",
        "    coeff = 0.5/(α**3)\n",
        "    rest = 4*exp(-αT) - 3 - exp(-2*αT) + 2*αT\n",
        "    return rest*coeff\n",
        "    \n",
        "def q23(α,T):\n",
        "    αT = α*T\n",
        "    coeff = 0.5/(α**2)\n",
        "    rest = exp(-2*αT) + 1 -2*exp(-αT)\n",
        "    return rest*coeff\n",
        "    \n",
        "def q33(α,T):\n",
        "    αT = α*T\n",
        "    coeff = 0.5/α\n",
        "    rest = 1 - exp(-2*αT)\n",
        "    return rest*coeff\n",
        "\n",
        "\n",
        "# In[80]:\n",
        "\n",
        "\n",
        "def Q_cov(σ_m, α=1e8,T=0.5):\n",
        "    \n",
        "    expectation_matrix = np.array([\n",
        "        \n",
        "        [q11(α,T), q12(α,T), q13(α,T)],\n",
        "        [q12(α,T), q22(α,T), q23(α,T)],\n",
        "        [q13(α,T), q23(α,T), q33(α,T)]\n",
        "    \n",
        "    ]) \n",
        "    \n",
        "    return 2*α*expectation_matrix*(σ_m**2)\n",
        "    \n",
        "    \n",
        "\n",
        "\n",
        "# In[78]:\n",
        "\n",
        "\n",
        "def Q_approximated(σ_m, α=0.25,T=0.05):\n",
        "    \n",
        "    expectation_matrix = np.array([\n",
        "        \n",
        "        [T**5 /20, T**4 /20, T**3 /6],\n",
        "        [T**4 /8 , T**3 /3 , T**2/2 ],\n",
        "        [T**3 /6 , T**2 /2 , T]\n",
        "        \n",
        "    ])\n",
        "    \n",
        "    return 2*α*expectation_matrix*σ_m**2\n",
        "    \n",
        "\n",
        "\n",
        "\n",
        "def P22(σ_r,σ_m,α,T ):\n",
        "    a = 2*(σ_r/T)**2 \n",
        "    b = (σ_m / (α**2 * T))**2\n",
        "    c = 2 - (α*T)**2 + (α*T)**3 *2/3 - 2*exp(-α*T) - 2 *α*T*exp(-α*T)\n",
        "    return a + (b*c)\n",
        "\n",
        "def P23(σ_r,σ_m,α,T):\n",
        "    a = σ_m**2 /(T*α**2)\n",
        "    b= (α*T)**3 *2/3 - 2*exp(-α*T) - 2 *α*T*exp(-α*T)\n",
        "    return a*b\n",
        "\n",
        "\n",
        "\n",
        "def P_cov(σ_r,σ_m,α,T):\n",
        "    expectation_matrix = np.array([\n",
        "        \n",
        "        [σ_r**2, σ_r**2/T, 0],\n",
        "        [σ_r**2/T,P22(σ_r,σ_m,α,T), P23(σ_r,σ_m,α,T)],\n",
        "        [0,P23(σ_r,σ_m,α,T), σ_m**2]\n",
        "        \n",
        "    ])\n",
        "    return expectation_matrix\n",
        "#!/usr/bin/env python\n",
        "# coding: utf-8\n",
        "\n",
        "# In[16]:\n",
        "\n",
        "def transfer_function(α,T):\n",
        "    \n",
        "    phi = np.array([\n",
        "        \n",
        "        [1, T, (1/α**2)*(-1 + exp(-α*T) + α*T)],\n",
        "        [0,1, (1/α)*(1-exp(-α*T))],\n",
        "        [0,0, exp(-α*T)]\n",
        "        \n",
        "    ])\n",
        "    return phi\n",
        "\n",
        "def tranfer_function_approximated(T):\n",
        "    \n",
        "    phi = np.array([\n",
        "        \n",
        "        [1,T,T**2 /2],\n",
        "        [0,1, T],\n",
        "        [0,0,1]\n",
        "        \n",
        "    ])\n",
        "\n",
        "\n",
        "# In[ ]:\n",
        "\n",
        "\n",
        "\n",
        "\n",
        "\n",
        "hide_toggle()"
      ],
      "execution_count": 105,
      "outputs": [
        {
          "output_type": "execute_result",
          "data": {
            "text/html": [
              "\n",
              "        <script>\n",
              "            function code_toggle_8333472719674787142() {\n",
              "                $('div.cell.code_cell.rendered.selected').find('div.input').toggle();\n",
              "            }\n",
              "\n",
              "            \n",
              "        </script>\n",
              "\n",
              "        <a href=\"javascript:code_toggle_8333472719674787142()\">Toggle show/hide</a>\n",
              "    "
            ],
            "text/plain": [
              "<IPython.core.display.HTML object>"
            ]
          },
          "metadata": {
            "tags": []
          },
          "execution_count": 105
        }
      ]
    },
    {
      "cell_type": "markdown",
      "metadata": {
        "id": "VB1hnl0g2s46"
      },
      "source": [
        "## Intiate Variables and Compute Matrices\n",
        "Lets declare our variables and find out the required Matrices. The values are taken directly from research paper."
      ]
    },
    {
      "cell_type": "markdown",
      "metadata": {
        "id": "VMqC_Rq52s46"
      },
      "source": [
        "$\\sigma _m ^2 = \\frac{A_{max}^2}{3}\\times(1+4P_{max} - P_o)$"
      ]
    },
    {
      "cell_type": "markdown",
      "metadata": {
        "id": "4lgwxh0N2s47"
      },
      "source": [
        "$\\Phi(T, \\alpha)=\\left[\\begin{array}{ccc}\n",
        "1 & T & \\frac{1}{\\alpha^{2}}\\left[-1+\\alpha T+e^{-\\alpha T}\\right] \\\\\n",
        "0 & 1 & \\frac{1}{\\alpha}\\left[1-e^{-\\alpha T}\\right] \\\\\n",
        "0 & 0 & e^{-a T}\n",
        "\\end{array}\\right]\\quad \\quad \\quad \\quad$\n",
        "\n",
        "\n",
        "$Q(k)=E\\left[u(k) u^{T}(k)\\right]=2 \\alpha \\sigma_{m}^{2}\\left[\\begin{array}{ccc}\n",
        "q 11 & q 12 & q 13 \\\\\n",
        "q 12 & q 22 & q 23 \\\\\n",
        "q 13 & q 23 & 433\n",
        "\\end{array}\\right]$"
      ]
    },
    {
      "cell_type": "markdown",
      "metadata": {
        "id": "nQ9Bs0oo55ZQ"
      },
      "source": [
        "This report is just to show if the filter is able to detect acceleration or not, so all that matters is whether the contours are matching or not, so I am going on without adding measurement noise to the measurements."
      ]
    },
    {
      "cell_type": "code",
      "metadata": {
        "id": "lDKttFeT2s49"
      },
      "source": [
        "# This becomes irrelevant for present report. and affects only initial guess. \n",
        "# More important is Phi matrix which doesnt depend on sigmas. Only relevant paramter her is alpha and T.\n",
        "Amax =  4*9.8\n",
        "Pmax = 0.1\n",
        "P_o = 0.5\n",
        "\n",
        "T = 1\n",
        "α = 0.1"
      ],
      "execution_count": 106,
      "outputs": []
    },
    {
      "cell_type": "code",
      "metadata": {
        "id": "HXpPGLrN2s4-"
      },
      "source": [
        "σ_m = (((Amax**2)/3)*(1+4*Pmax - P_o))**0.5\n",
        "σ_r = 60\n",
        "\n",
        "P = P_cov(σ_r,σ_m,α,T)\n",
        "Q = Q_cov(σ_m, α,T)\n",
        "R = np.array([[σ_r**2]])\n",
        "\n",
        "F = transfer_function(α,T)\n",
        "H = np.array([[1., 0., 0.]])\n",
        "x = np.array([[0, 0, 0 ]]).T"
      ],
      "execution_count": 107,
      "outputs": []
    },
    {
      "cell_type": "markdown",
      "metadata": {
        "id": "3DncAzSS2s4_"
      },
      "source": [
        "The objective of the paper was to find out the $\\text{Transition matrix} \\ \\Phi$ and the covariance matrices for the given problem. This snippet executes the Kalman Filter using the respective $P$ and $Q$ covariance matrices from paper."
      ]
    },
    {
      "cell_type": "code",
      "metadata": {
        "id": "P7CzVVtV2s4_"
      },
      "source": [
        "P = np.array([\n",
        "    [P[0][0], P[0][1], P[0][2],  0,      0,       0    ],\n",
        "    [P[1][0], P[1][1], P[1][2],  0,      0,       0    ],\n",
        "    [P[2][0], P[2][1], P[2][2],  0,      0,       0    ],\n",
        "    [    0,     0,      0,    P[0][0], P[0][1], P[0][2]],\n",
        "    [    0,     0,      0,    P[1][0], P[1][1], P[1][2]],\n",
        "    [    0,     0,      0,    P[2][0], P[2][1], P[2][2]], \n",
        "    \n",
        "    ])\n",
        "\n"
      ],
      "execution_count": 108,
      "outputs": []
    },
    {
      "cell_type": "code",
      "metadata": {
        "id": "6zg1dRrP2s4_"
      },
      "source": [
        "Q = np.array([\n",
        "    [Q[0][0], Q[0][1], Q[0][2],  0,       0,       0   ],\n",
        "    [Q[1][0], Q[1][1], Q[1][2],  0,       0,       0   ],\n",
        "    [Q[2][0], Q[2][1], Q[2][2],  0,       0,       0   ],\n",
        "    [    0,     0,      0,    Q[0][0], Q[0][1], Q[0][2]],\n",
        "    [    0,     0,      0,    Q[1][0], Q[1][1], Q[1][2]],\n",
        "    [    0,     0,      0,    Q[2][0], Q[2][1], Q[2][2]], \n",
        "    \n",
        "    ])\n"
      ],
      "execution_count": 109,
      "outputs": []
    },
    {
      "cell_type": "code",
      "metadata": {
        "id": "7d4lewJE2s5A"
      },
      "source": [
        "F = np.array([\n",
        "    [F[0][0], F[0][1], F[0][2],  0,       0,       0   ],\n",
        "    [F[1][0], F[1][1], F[1][2],  0,       0,       0   ],\n",
        "    [F[2][0], F[2][1], F[2][2],  0,       0,       0   ],\n",
        "    [    0,     0,      0,    F[0][0], F[0][1], F[0][2]],\n",
        "    [    0,     0,      0,    F[1][0], F[1][1], F[1][2]],\n",
        "    [    0,     0,      0,    F[2][0], F[2][1], F[2][2]], \n",
        "    \n",
        "    ])\n"
      ],
      "execution_count": 110,
      "outputs": []
    },
    {
      "cell_type": "code",
      "metadata": {
        "id": "iWEy9jUy2s5B"
      },
      "source": [
        "H = np.array([\n",
        "    \n",
        "    [1,0,0,0,0,0],\n",
        "    [0,0,0,1,0,0]\n",
        "])"
      ],
      "execution_count": 111,
      "outputs": []
    },
    {
      "cell_type": "code",
      "metadata": {
        "id": "HFo6c7nf2s5C"
      },
      "source": [
        "R = np.array([\n",
        "    \n",
        "    [ σ_r**2,    0  ],\n",
        "    [   0,    σ_r**2]\n",
        "    \n",
        "])\n"
      ],
      "execution_count": 112,
      "outputs": []
    },
    {
      "cell_type": "markdown",
      "metadata": {
        "id": "SxfyXA_l2s5C"
      },
      "source": [
        "## Generate Measurements"
      ]
    },
    {
      "cell_type": "markdown",
      "metadata": {
        "id": "-WeH1Zo265gA"
      },
      "source": [
        "Data is generated only for position. Velocity and Acceleration data is not generated."
      ]
    },
    {
      "cell_type": "code",
      "metadata": {
        "id": "-0iekNgV2s5C"
      },
      "source": [
        "# consttraj = [0]*500\n",
        "# θ = np.arange(-3.14/2, 3.14/2, 0.1)\n",
        "# θ = list(θ) + consttraj# + list(θ)"
      ],
      "execution_count": 113,
      "outputs": []
    },
    {
      "cell_type": "code",
      "metadata": {
        "id": "7qLHRyJz2s5D"
      },
      "source": [
        "coeff1 = 1\n",
        "coeff2 = 1\n",
        "θ = coeff1 * np.arange(0, np.pi*100, 0.1)\n",
        "r = [ 10 for theta in θ]\n",
        "\n",
        "xc = [r[i]*np.cos(j) for (i,j) in enumerate(θ)]\n",
        "yc = [r[i]*np.sin(j) for (i,j) in enumerate(θ)]\n",
        "\n",
        "merged = []\n",
        "for i in range(len(xc)):\n",
        "    merged.append([[xc[i]],[yc[i]]])\n",
        "    "
      ],
      "execution_count": 114,
      "outputs": []
    },
    {
      "cell_type": "markdown",
      "metadata": {
        "id": "UVkfUa7l2s5D"
      },
      "source": [
        "## $ \\textbf{Apply Kalman  Filter}$\n"
      ]
    },
    {
      "cell_type": "code",
      "metadata": {
        "id": "M_gOe9Q62s5D"
      },
      "source": [
        "x = np.array([[0, 0, 0, 0, 0, 0]]).T"
      ],
      "execution_count": 115,
      "outputs": []
    },
    {
      "cell_type": "code",
      "metadata": {
        "scrolled": true,
        "id": "BXPaLYhh2s5D"
      },
      "source": [
        "xs =[]\n",
        "cov= []\n",
        "\n",
        "for z in merged:\n",
        "    \n",
        "    # predict\n",
        "    x = F @ x\n",
        "    P = F @ P @ F.T + Q\n",
        "    \n",
        "    #update\n",
        "    S = H @ P @ H.T + R\n",
        "    K = P @ H.T @ inv(S)\n",
        "    y = z - H @ x\n",
        "    x += K @ y\n",
        "    P = P - K @ H @ P\n",
        "    \n",
        "    xs.append(x)\n",
        "    cov.append(P)\n",
        "\n",
        "xs, cov = np.array(xs), np.array(cov)"
      ],
      "execution_count": 116,
      "outputs": []
    },
    {
      "cell_type": "code",
      "metadata": {
        "id": "NWs-eV632s5E",
        "colab": {
          "base_uri": "https://localhost:8080/",
          "height": 34
        },
        "cellView": "form",
        "outputId": "0d6e07d0-aeb3-413e-f900-336c07477848"
      },
      "source": [
        "#@title\n",
        "def plot_all(data1,data2,data3,title1,title2,title3, time=True):\n",
        "    plt.figure(figsize=(15,5))\n",
        "    \n",
        "    plt.subplot(1, 3, 1)\n",
        "    plt.plot(data1)\n",
        "    plt.xlabel(\"time\")\n",
        "    plt.title(title1, fontsize =15)\n",
        "    \n",
        "    plt.subplot(1, 3, 2)\n",
        "    plt.plot(data2)\n",
        "    plt.title(title2, fontsize =15)\n",
        "    plt.xlabel(\"time\")\n",
        "    \n",
        "    plt.subplot(1, 3, 3)\n",
        "    plt.plot(data3)\n",
        "    plt.xlabel(\"time\")\n",
        "    plt.title(title3, fontsize =15)\n",
        "    plt.show()\n",
        "hide_toggle()"
      ],
      "execution_count": 117,
      "outputs": [
        {
          "output_type": "execute_result",
          "data": {
            "text/html": [
              "\n",
              "        <script>\n",
              "            function code_toggle_4127701937084836() {\n",
              "                $('div.cell.code_cell.rendered.selected').find('div.input').toggle();\n",
              "            }\n",
              "\n",
              "            \n",
              "        </script>\n",
              "\n",
              "        <a href=\"javascript:code_toggle_4127701937084836()\">Toggle show/hide</a>\n",
              "    "
            ],
            "text/plain": [
              "<IPython.core.display.HTML object>"
            ]
          },
          "metadata": {
            "tags": []
          },
          "execution_count": 117
        }
      ]
    },
    {
      "cell_type": "code",
      "metadata": {
        "id": "GeJPOdOb2s5F",
        "colab": {
          "base_uri": "https://localhost:8080/",
          "height": 357
        },
        "outputId": "606529d2-8f23-4e0c-8ad1-fde299f496b2"
      },
      "source": [
        "x_fil = []\n",
        "y_fil = []\n",
        "for each_state_vec in xs:\n",
        "    x_fil.append(each_state_vec[0])\n",
        "    y_fil.append(each_state_vec[3])\n",
        "\n",
        "plt.figure(figsize=(15,5))\n",
        "plt.subplot(1, 2, 1)\n",
        "plt.plot(xc, yc)\n",
        "plt.xlabel(\"x\", fontsize=15)\n",
        "plt.ylabel(\"y\", fontsize=15)\n",
        "plt.title('Position Measurements', fontsize=15)\n",
        "plt.subplot(1, 2, 2)\n",
        "plt.plot(x_fil, y_fil)\n",
        "plt.xlabel(\"x\", fontsize=15)\n",
        "plt.ylabel(\"y\", fontsize=15)\n",
        "plt.title('Filtered Position', fontsize=15)\n",
        "plt.show()"
      ],
      "execution_count": 118,
      "outputs": [
        {
          "output_type": "display_data",
          "data": {
            "image/png": "[encoded data removed]",
            "text/plain": [
              "<Figure size 1080x360 with 2 Axes>"
            ]
          },
          "metadata": {
            "tags": [],
            "needs_background": "light"
          }
        }
      ]
    },
    {
      "cell_type": "markdown",
      "metadata": {
        "id": "JOlHgOvM2s5F"
      },
      "source": [
        "======================================================================================================"
      ]
    },
    {
      "cell_type": "code",
      "metadata": {
        "id": "jafwrptR2s5G",
        "colab": {
          "base_uri": "https://localhost:8080/",
          "height": 364
        },
        "outputId": "f73efc49-f528-4402-c45c-06474b4cd789"
      },
      "source": [
        "v = []\n",
        "vx_fil = []\n",
        "vy_fil = []\n",
        "for kk in xs:\n",
        "    vx_fil.append(kk[1])\n",
        "    vy_fil.append(kk[4])    \n",
        "    v.append((kk[1]**2 + kk[4]**2)**0.5)\n",
        "plot_all(v,vx_fil,vy_fil,r\"$V = \\sqrt{V_x^2 + V_y^2}$\",r\"$V_x$\",r\"$V_y$\")"
      ],
      "execution_count": 119,
      "outputs": [
        {
          "output_type": "display_data",
          "data": {
            "image/png": "[encoded data removed]",
            "text/plain": [
              "<Figure size 1080x360 with 3 Axes>"
            ]
          },
          "metadata": {
            "tags": [],
            "needs_background": "light"
          }
        }
      ]
    },
    {
      "cell_type": "code",
      "metadata": {
        "id": "D0Zr_e-X2s5H",
        "colab": {
          "base_uri": "https://localhost:8080/",
          "height": 362
        },
        "outputId": "4eab8193-e8fd-4b4f-a113-d26156b1c6bf"
      },
      "source": [
        "v_pol = []\n",
        "vθ    = []\n",
        "vr    = []\n",
        "\n",
        "for (i,itr) in enumerate(θ):\n",
        "\n",
        "    trans = np.array([\n",
        "        [   cos(itr),    sin(itr)],\n",
        "        [-1*sin(itr),    cos(itr)]\n",
        "            ])\n",
        "    v_vec_cart = np.array([vx_fil[i], vy_fil[i]])\n",
        "    v_vec = trans@v_vec_cart\n",
        "    vr.append(v_vec[0])\n",
        "    vθ.append(v_vec[1])\n",
        "    v_pol.append((v_vec[0]**2+v_vec[1]**2)**0.5)\n",
        "\n",
        "plot_all(v_pol, vr, vθ, r\"$V = \\sqrt{V_\\theta^2 + V_r^2}$\" , r\"$V_r$\", r\"$V_\\theta$\")    "
      ],
      "execution_count": 120,
      "outputs": [
        {
          "output_type": "display_data",
          "data": {
            "image/png": "[encoded data removed]",
            "text/plain": [
              "<Figure size 1080x360 with 3 Axes>"
            ]
          },
          "metadata": {
            "tags": [],
            "needs_background": "light"
          }
        }
      ]
    },
    {
      "cell_type": "code",
      "metadata": {
        "colab": {
          "base_uri": "https://localhost:8080/"
        },
        "id": "2cZAK0AKN5AZ",
        "outputId": "cdaf72cd-26f1-4461-bd76-602150954101"
      },
      "source": [
        "np.mean(vθ)"
      ],
      "execution_count": 126,
      "outputs": [
        {
          "output_type": "execute_result",
          "data": {
            "text/plain": [
              "1.0377862752281528"
            ]
          },
          "metadata": {
            "tags": []
          },
          "execution_count": 126
        }
      ]
    },
    {
      "cell_type": "markdown",
      "metadata": {
        "id": "mQJLmKl1N4v3"
      },
      "source": [
        ""
      ]
    },
    {
      "cell_type": "markdown",
      "metadata": {
        "id": "oC53dPeD2s5J"
      },
      "source": [
        "==================================================================================================="
      ]
    },
    {
      "cell_type": "code",
      "metadata": {
        "id": "ph3Gf40m2s5J",
        "colab": {
          "base_uri": "https://localhost:8080/",
          "height": 364
        },
        "outputId": "15c6a7e8-4b9e-4e1f-81c5-05c101b53121"
      },
      "source": [
        "a, ax_fil, ay_fil = [],[],[]\n",
        "for every_a in xs:\n",
        "    ax_fil.append(every_a[2])\n",
        "    ay_fil.append(every_a[5])\n",
        "    a.append((every_a[2][0]**2 + every_a[5][0]**2)**0.5)\n",
        "\n",
        "plot_all(a,ax_fil,ay_fil,r\"$a = \\sqrt{a_x^2 + a_y^2}$\",r\"$a_x$\",r\"$a_y$\")    "
      ],
      "execution_count": 137,
      "outputs": [
        {
          "output_type": "display_data",
          "data": {
            "image/png": "[encoded data removed]",
            "text/plain": [
              "<Figure size 1080x360 with 3 Axes>"
            ]
          },
          "metadata": {
            "tags": [],
            "needs_background": "light"
          }
        }
      ]
    },
    {
      "cell_type": "code",
      "metadata": {
        "id": "RNy0rmhd2s5K",
        "colab": {
          "base_uri": "https://localhost:8080/",
          "height": 362
        },
        "outputId": "98ea319c-442b-402a-9a88-363d3858bc8e"
      },
      "source": [
        "a_pol, aθ, ar = [],[],[]\n",
        "for (i,itr) in enumerate(θ):\n",
        "\n",
        "    trans = np.array([\n",
        "        [cos(itr),             sin(itr)],\n",
        "        [-1*sin(itr),    cos(itr)]\n",
        "            ])\n",
        "    a_vec_cart = np.array([ax_fil[i], ay_fil[i]])\n",
        "    a_vec = trans@a_vec_cart\n",
        "    ar.append(a_vec[0])\n",
        "    aθ.append(a_vec[1])\n",
        "    a_pol.append((a_vec[0]**2 + a_vec[1]**2)**0.5)\n",
        "    \n",
        "plot_all(a_pol,ar,aθ,r\"$a = \\sqrt{a_\\theta^2 + a_r^2}$\",r\"$a_r$\",r\"$a_\\theta$\")    "
      ],
      "execution_count": 123,
      "outputs": [
        {
          "output_type": "display_data",
          "data": {
            "image/png": "[encoded data removed]",
            "text/plain": [
              "<Figure size 1080x360 with 3 Axes>"
            ]
          },
          "metadata": {
            "tags": [],
            "needs_background": "light"
          }
        }
      ]
    },
    {
      "cell_type": "markdown",
      "metadata": {
        "id": "SAr-ZICgY2-Y"
      },
      "source": [
        "Lets analyze the outcomes. We will be comparing the manoeuvre predictions with the analyticaal solution."
      ]
    },
    {
      "cell_type": "markdown",
      "metadata": {
        "id": "PULLPDoqdwuy"
      },
      "source": [
        "So the spiral trajectory in this example is $r = \\theta$ i.e. radius changes in perfect correlation with $\\theta$. In our example we have $\\dot{\\theta}=\\small 0.1$ . "
      ]
    },
    {
      "cell_type": "markdown",
      "metadata": {
        "id": "vQRgRwSQdwF3"
      },
      "source": [
        "thus $a_r = \\ddot{r}-r \\dot{\\theta}^{2} = -r\\times 0.1^2 $. So our prediction of radial accelration should decrease as radius increases and thus time. Also, $a_\\theta =  2 \\frac{\\dot{r} \\dot{\\theta}}{r}+\\ddot{\\theta}= 2\\times 0.1 \\times 0.1 + 0 = 0.02$ which means that tangetial acceleration should be constant. These two key points are evident from plots above."
      ]
    },
    {
      "cell_type": "code",
      "metadata": {
        "id": "p6U72_xJmpx6",
        "colab": {
          "base_uri": "https://localhost:8080/"
        },
        "outputId": "44d382d8-4a31-43c5-9a79-8ef59708a79d"
      },
      "source": [
        "np.mean(a[5:])"
      ],
      "execution_count": 130,
      "outputs": [
        {
          "output_type": "execute_result",
          "data": {
            "text/plain": [
              "0.07267580356687094"
            ]
          },
          "metadata": {
            "tags": []
          },
          "execution_count": 130
        }
      ]
    },
    {
      "cell_type": "code",
      "metadata": {
        "id": "NQsAjPLsqEjF",
        "colab": {
          "base_uri": "https://localhost:8080/"
        },
        "outputId": "9a37c6f7-6774-4720-cc69-fae2774c5d69"
      },
      "source": [
        "((ar[-1]-ar[0])/len(ar))[0]"
      ],
      "execution_count": 129,
      "outputs": [
        {
          "output_type": "execute_result",
          "data": {
            "text/plain": [
              "-0.003958703778768114"
            ]
          },
          "metadata": {
            "tags": []
          },
          "execution_count": 129
        }
      ]
    },
    {
      "cell_type": "code",
      "metadata": {
        "id": "jSqefIdcqQaP"
      },
      "source": [
        ""
      ],
      "execution_count": 125,
      "outputs": []
    }
  ]
}