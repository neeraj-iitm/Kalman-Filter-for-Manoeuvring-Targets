{
  "nbformat": 4,
  "nbformat_minor": 0,
  "metadata": {
    "anaconda-cloud": {},
    "kernelspec": {
      "display_name": "Python 3",
      "language": "python",
      "name": "python3"
    },
    "language_info": {
      "codemirror_mode": {
        "name": "ipython",
        "version": 3
      },
      "file_extension": ".py",
      "mimetype": "text/x-python",
      "name": "python",
      "nbconvert_exporter": "python",
      "pygments_lexer": "ipython3",
      "version": "3.7.4"
    },
    "colab": {
      "name": "KF Simulation - Both Components of Spiral Trajetory.ipynb",
      "provenance": [],
      "include_colab_link": true
    }
  },
  "cells": [
    {
      "cell_type": "markdown",
      "metadata": {
        "id": "view-in-github",
        "colab_type": "text"
      },
      "source": [
        "<a href=\"https://colab.research.google.com/github/neeraj-iitm/Kalman-Filter-for-Manoeuvring-Targets/blob/main/KF_Simulation_Both_Components_of_Spiral_Trajetory.ipynb\" target=\"_parent\"><img src=\"https://colab.research.google.com/assets/colab-badge.svg\" alt=\"Open In Colab\"/></a>"
      ]
    },
    {
      "cell_type": "markdown",
      "metadata": {
        "id": "4H1IS0MwQ4cY"
      },
      "source": [
        "#  $ \\Huge \\ \\ -- \\ Simulation \\ --$\n"
      ]
    },
    {
      "cell_type": "markdown",
      "metadata": {
        "id": "PkepC1WHQ4cm"
      },
      "source": [
        "## Import\n",
        "Lets Start by importing necessary libraries,"
      ]
    },
    {
      "cell_type": "code",
      "metadata": {
        "id": "MZ1E5JyaQ4co"
      },
      "source": [
        "#---- Local Imports\n",
        "from utils.PQ_matrices import P_cov, Q_cov\n",
        "from utils.transfer_function import *\n",
        "import utils.syntheticmeasurements as sms\n",
        "from utils.mkf_internal import plot_track\n",
        "from book_plots import reset_figsize\n",
        "\n",
        "#---- Library Imports\n",
        "import pandas as pd\n",
        "import numpy as np\n",
        "from matplotlib.pyplot import text\n",
        "# from numpy import exp\n",
        "from numpy.random import randn\n",
        "from scipy.linalg import inv\n",
        "\n",
        "\n",
        "#---- Plot imports\n",
        "import matplotlib.pyplot as plt\n"
      ],
      "execution_count": null,
      "outputs": []
    },
    {
      "cell_type": "markdown",
      "metadata": {
        "id": "qlgZ6dvdQ4cq"
      },
      "source": [
        "## Intiate Variables and Compute Matrices\n",
        "Lets declare our variables and find out the required Matrices. The values are taken directly from research paper."
      ]
    },
    {
      "cell_type": "markdown",
      "metadata": {
        "id": "E90wjWwPQ4cr"
      },
      "source": [
        "$\\sigma _m ^2 = \\frac{A_{max}^2}{3}\\times(1+4P_{max} - P_o)$"
      ]
    },
    {
      "cell_type": "markdown",
      "metadata": {
        "id": "ZM8X9m7sQ4cs"
      },
      "source": [
        "$\\Phi(T, \\alpha)=\\left[\\begin{array}{ccc}\n",
        "1 & T & \\frac{1}{\\alpha^{2}}\\left[-1+\\alpha T+e^{-\\alpha T}\\right] \\\\\n",
        "0 & 1 & \\frac{1}{\\alpha}\\left[1-e^{-\\alpha T}\\right] \\\\\n",
        "0 & 0 & e^{-a T}\n",
        "\\end{array}\\right]\\quad \\quad \\quad \\quad$\n",
        "\n",
        "\n",
        "$Q(k)=E\\left[u(k) u^{T}(k)\\right]=2 \\alpha \\sigma_{m}^{2}\\left[\\begin{array}{ccc}\n",
        "q 11 & q 12 & q 13 \\\\\n",
        "q 12 & q 22 & q 23 \\\\\n",
        "q 13 & q 23 & 433\n",
        "\\end{array}\\right]$"
      ]
    },
    {
      "cell_type": "code",
      "metadata": {
        "id": "mlzLRoLJQ4ct"
      },
      "source": [
        "Amax =  4*32\n",
        "Pmax = 0.1\n",
        "P_o = 0.5\n",
        "\n",
        "T = 1\n",
        "α = 0.1"
      ],
      "execution_count": null,
      "outputs": []
    },
    {
      "cell_type": "code",
      "metadata": {
        "id": "75KROA8KQ4cu"
      },
      "source": [
        "σ_m = (((Amax**2)/3)*(1+4*Pmax - P_o))**0.5\n",
        "σ_r = 600\n",
        "\n",
        "P = P_cov(σ_r,σ_m,α,T)\n",
        "Q = Q_cov(σ_m, α,T)\n",
        "R = np.array([[σ_r**2]])\n",
        "\n",
        "F = transfer_function(α,T)\n",
        "H = np.array([[1., 0., 0.]])\n",
        "x = np.array([[0, 0, 0 ]]).T"
      ],
      "execution_count": null,
      "outputs": []
    },
    {
      "cell_type": "markdown",
      "metadata": {
        "id": "vTKBhY6MQ4cu"
      },
      "source": [
        "## Get Measurements"
      ]
    },
    {
      "cell_type": "code",
      "metadata": {
        "id": "iW9wScsZQ4cv"
      },
      "source": [
        "θ = np.arange(-3.14*10, 3.14*10, 0.1)\n",
        "r = [10 for i in range(len(θ))]\n",
        "\n",
        "xc = [r[i]*np.cos(j) for (i,j) in enumerate(θ)]\n",
        "yc = [r[i]*np.sin(j) for (i,j) in enumerate(θ)]\n",
        "\n",
        "merged = []\n",
        "for i in range(len(xc)):\n",
        "    merged.append([[xc[i]],[yc[i]]])\n",
        "    "
      ],
      "execution_count": null,
      "outputs": []
    },
    {
      "cell_type": "markdown",
      "metadata": {
        "id": "A7nC8_O7Q4cw"
      },
      "source": [
        "## $ \\textbf{Apply Kalman  Filter}$\n"
      ]
    },
    {
      "cell_type": "markdown",
      "metadata": {
        "id": "RyD0DjcIQ4cz"
      },
      "source": [
        "The objective of the paper was to find out the $\\text{Transition matrix} \\ \\Phi$ and the covariance matrices for the given problem. This snippet executes the Kalman Filter using the respective $P$ and $Q$ covariance matrices from paper."
      ]
    },
    {
      "cell_type": "code",
      "metadata": {
        "id": "zMaz2irzQ4cz"
      },
      "source": [
        "P = np.array([\n",
        "    [P[0][0], P[0][1], P[0][2],  0,      0,       0    ],\n",
        "    [P[1][0], P[1][1], P[1][2],  0,      0,       0    ],\n",
        "    [P[2][0], P[2][1], P[2][2],  0,      0,       0    ],\n",
        "    [    0,     0,      0,    P[0][0], P[0][1], P[0][2]],\n",
        "    [    0,     0,      0,    P[1][0], P[1][1], P[1][2]],\n",
        "    [    0,     0,      0,    P[2][0], P[2][1], P[2][2]], \n",
        "    \n",
        "    ])\n",
        "\n"
      ],
      "execution_count": null,
      "outputs": []
    },
    {
      "cell_type": "code",
      "metadata": {
        "id": "TC4BFqcaQ4cz"
      },
      "source": [
        "Q = np.array([\n",
        "    [Q[0][0], Q[0][1], Q[0][2],  0,       0,       0   ],\n",
        "    [Q[1][0], Q[1][1], Q[1][2],  0,       0,       0   ],\n",
        "    [Q[2][0], Q[2][1], Q[2][2],  0,       0,       0   ],\n",
        "    [    0,     0,      0,    Q[0][0], Q[0][1], Q[0][2]],\n",
        "    [    0,     0,      0,    Q[1][0], Q[1][1], Q[1][2]],\n",
        "    [    0,     0,      0,    Q[2][0], Q[2][1], Q[2][2]], \n",
        "    \n",
        "    ])\n"
      ],
      "execution_count": null,
      "outputs": []
    },
    {
      "cell_type": "code",
      "metadata": {
        "id": "c0EMGGbiQ4c0"
      },
      "source": [
        "F = np.array([\n",
        "    [F[0][0], F[0][1], F[0][2],  0,       0,       0   ],\n",
        "    [F[1][0], F[1][1], F[1][2],  0,       0,       0   ],\n",
        "    [F[2][0], F[2][1], F[2][2],  0,       0,       0   ],\n",
        "    [    0,     0,      0,    F[0][0], F[0][1], F[0][2]],\n",
        "    [    0,     0,      0,    F[1][0], F[1][1], F[1][2]],\n",
        "    [    0,     0,      0,    F[2][0], F[2][1], F[2][2]], \n",
        "    \n",
        "    ])\n"
      ],
      "execution_count": null,
      "outputs": []
    },
    {
      "cell_type": "code",
      "metadata": {
        "id": "zvQvihcdQ4c0"
      },
      "source": [
        "H =(np.array([[1,0,0,0,0,0],\n",
        "              [0,0,0,1,0,0]]))"
      ],
      "execution_count": null,
      "outputs": []
    },
    {
      "cell_type": "code",
      "metadata": {
        "id": "PQCOnGmWQ4c1"
      },
      "source": [
        "R = np.array([\n",
        "    [ σ_r**2,    0  ],\n",
        "    [   0,    σ_r**2]\n",
        "])\n"
      ],
      "execution_count": null,
      "outputs": []
    },
    {
      "cell_type": "code",
      "metadata": {
        "id": "Yvfck6VTQ4c2"
      },
      "source": [
        "x = np.array([[0, 0, 0, 0, 0, 0]]).T"
      ],
      "execution_count": null,
      "outputs": []
    },
    {
      "cell_type": "code",
      "metadata": {
        "scrolled": true,
        "id": "7EG_HwKbQ4c2"
      },
      "source": [
        "xs =[]\n",
        "cov= []\n",
        "\n",
        "for z in merged:\n",
        "    \n",
        "    # predict\n",
        "    x = F @ x\n",
        "    P = F @ P @ F.T + Q\n",
        "    \n",
        "    #update\n",
        "    S = H @ P @ H.T + R\n",
        "    K = P @ H.T @ inv(S)\n",
        "    y = z - H @ x\n",
        "    x += K @ y\n",
        "    P = P - K @ H @ P\n",
        "    \n",
        "    xs.append(x)\n",
        "    cov.append(P)\n",
        "\n",
        "xs, cov = np.array(xs), np.array(cov)"
      ],
      "execution_count": null,
      "outputs": []
    },
    {
      "cell_type": "code",
      "metadata": {
        "id": "TKtx-C1bQ4c2"
      },
      "source": [
        "x_meas = []\n",
        "y_meas = []\n",
        "for i in merged:\n",
        "    x_meas.append(i[0])\n",
        "    y_meas.append(i[1])"
      ],
      "execution_count": null,
      "outputs": []
    },
    {
      "cell_type": "code",
      "metadata": {
        "id": "1HbDNBcGQ4c3",
        "outputId": "d3f18174-6668-4ddd-cd80-8caa70b86f76"
      },
      "source": [
        "plt.plot(x_meas, y_meas)"
      ],
      "execution_count": null,
      "outputs": [
        {
          "output_type": "execute_result",
          "data": {
            "text/plain": [
              "[<matplotlib.lines.Line2D at 0x7f6ed2e21cd0>]"
            ]
          },
          "metadata": {
            "tags": []
          },
          "execution_count": 168
        },
        {
          "output_type": "display_data",
          "data": {
            "image/png": "[encoded data removed]",
            "text/plain": [
              "<Figure size 432x288 with 1 Axes>"
            ]
          },
          "metadata": {
            "tags": [],
            "needs_background": "light"
          }
        }
      ]
    },
    {
      "cell_type": "code",
      "metadata": {
        "id": "RrJLi02UQ4c5",
        "outputId": "fb21ae3c-a14b-43c4-9959-7f98ab0edb20"
      },
      "source": [
        "x_fil = []\n",
        "y_fil = []\n",
        "for kk in xs:\n",
        "    x_fil.append(kk[0])\n",
        "    y_fil.append(kk[3])\n",
        "plt.plot(x_fil, y_fil)"
      ],
      "execution_count": null,
      "outputs": [
        {
          "output_type": "execute_result",
          "data": {
            "text/plain": [
              "[<matplotlib.lines.Line2D at 0x7f6ed2d9f110>]"
            ]
          },
          "metadata": {
            "tags": []
          },
          "execution_count": 169
        },
        {
          "output_type": "display_data",
          "data": {
            "image/png": "[encoded data removed]",
            "text/plain": [
              "<Figure size 432x288 with 1 Axes>"
            ]
          },
          "metadata": {
            "tags": [],
            "needs_background": "light"
          }
        }
      ]
    },
    {
      "cell_type": "code",
      "metadata": {
        "id": "Q_GFXIpKQ4c6",
        "outputId": "71c7deda-e6b4-4c8f-de3a-4c0c9754e3eb"
      },
      "source": [
        "v = []\n",
        "vx_fil = []\n",
        "vy_fil = []\n",
        "for kk in xs:\n",
        "    vx_fil.append(kk[1])\n",
        "    vy_fil.append(kk[4])    \n",
        "    v.append((kk[1]**2 + kk[4]**2)**0.5)\n",
        "plt.plot(v)"
      ],
      "execution_count": null,
      "outputs": [
        {
          "output_type": "execute_result",
          "data": {
            "text/plain": [
              "[<matplotlib.lines.Line2D at 0x7f6ed2d0d4d0>]"
            ]
          },
          "metadata": {
            "tags": []
          },
          "execution_count": 170
        },
        {
          "output_type": "display_data",
          "data": {
            "image/png": "[encoded data removed]",
            "text/plain": [
              "<Figure size 432x288 with 1 Axes>"
            ]
          },
          "metadata": {
            "tags": [],
            "needs_background": "light"
          }
        }
      ]
    },
    {
      "cell_type": "code",
      "metadata": {
        "id": "0D-gvZrtQ4c6",
        "outputId": "75640ea9-5d6d-432f-f4b8-438b9774d186"
      },
      "source": [
        "a=[]\n",
        "ax_fil = []\n",
        "ay_fil = []\n",
        "for kk in xs:\n",
        "    ax_fil.append(kk[2])\n",
        "    ay_fil.append(kk[5])\n",
        "    a.append((kk[2][0]**2 + kk[5][0]**2)**0.5)\n",
        "plt.plot(a)"
      ],
      "execution_count": null,
      "outputs": [
        {
          "output_type": "execute_result",
          "data": {
            "text/plain": [
              "[<matplotlib.lines.Line2D at 0x7f6ed2c86150>]"
            ]
          },
          "metadata": {
            "tags": []
          },
          "execution_count": 171
        },
        {
          "output_type": "display_data",
          "data": {
            "image/png": "[encoded data removed]",
            "text/plain": [
              "<Figure size 432x288 with 1 Axes>"
            ]
          },
          "metadata": {
            "tags": [],
            "needs_background": "light"
          }
        }
      ]
    },
    {
      "cell_type": "code",
      "metadata": {
        "id": "7iXJvMR3Q4c7",
        "outputId": "d75aa107-fc2c-4977-f2c8-58c7cc483489"
      },
      "source": [
        "plt.plot(ax_fil)"
      ],
      "execution_count": null,
      "outputs": [
        {
          "output_type": "execute_result",
          "data": {
            "text/plain": [
              "[<matplotlib.lines.Line2D at 0x7f6ed2c63a50>]"
            ]
          },
          "metadata": {
            "tags": []
          },
          "execution_count": 172
        },
        {
          "output_type": "display_data",
          "data": {
            "image/png": "[encoded data removed]",
            "text/plain": [
              "<Figure size 432x288 with 1 Axes>"
            ]
          },
          "metadata": {
            "tags": [],
            "needs_background": "light"
          }
        }
      ]
    },
    {
      "cell_type": "code",
      "metadata": {
        "id": "YRSV8z5yQ4c9",
        "outputId": "25968492-c39e-402a-fcc9-c7549c1c7dac"
      },
      "source": [
        "plt.plot(ay_fil)"
      ],
      "execution_count": null,
      "outputs": [
        {
          "output_type": "execute_result",
          "data": {
            "text/plain": [
              "[<matplotlib.lines.Line2D at 0x7f6ed2bd8190>]"
            ]
          },
          "metadata": {
            "tags": []
          },
          "execution_count": 173
        },
        {
          "output_type": "display_data",
          "data": {
            "image/png": "[encoded data removed]",
            "text/plain": [
              "<Figure size 432x288 with 1 Axes>"
            ]
          },
          "metadata": {
            "tags": [],
            "needs_background": "light"
          }
        }
      ]
    },
    {
      "cell_type": "code",
      "metadata": {
        "id": "pkTd4fPIQ4c9"
      },
      "source": [
        ""
      ],
      "execution_count": null,
      "outputs": []
    },
    {
      "cell_type": "markdown",
      "metadata": {
        "id": "qYr__CaaQ4c9"
      },
      "source": [
        "-----"
      ]
    },
    {
      "cell_type": "code",
      "metadata": {
        "id": "F-A2DFRIQ4c9"
      },
      "source": [
        ""
      ],
      "execution_count": null,
      "outputs": []
    }
  ]
}