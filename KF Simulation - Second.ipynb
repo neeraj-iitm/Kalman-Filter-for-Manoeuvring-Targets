{
 "cells": [
  {
   "cell_type": "markdown",
   "metadata": {},
   "source": [
    "#  $ \\Huge \\ \\ -- \\ Simulation \\ --$\n"
   ]
  },
  {
   "cell_type": "markdown",
   "metadata": {},
   "source": [
    "## Import\n",
    "Lets Start by importing necessary libraries,"
   ]
  },
  {
   "cell_type": "code",
   "execution_count": 1,
   "metadata": {},
   "outputs": [],
   "source": [
    "#---- Local Imports\n",
    "from utils.PQ_matrices import P_cov, Q_cov\n",
    "from utils.transfer_function import *\n",
    "import utils.syntheticmeasurements as sms\n",
    "from utils.mkf_internal import plot_track\n",
    "from book_plots import reset_figsize\n",
    "\n",
    "#---- Library Imports\n",
    "import numpy as np\n",
    "from matplotlib.pyplot import text\n",
    "# from numpy import exp\n",
    "from numpy.random import randn\n",
    "from scipy.linalg import inv\n",
    "\n",
    "\n",
    "#---- Plot imports\n",
    "import matplotlib.pyplot as plt\n"
   ]
  },
  {
   "cell_type": "markdown",
   "metadata": {},
   "source": [
    "## Intiate Variables and Compute Matrices\n",
    "Lets declare our variables and find out the required Matrices. The values are taken directly from research paper."
   ]
  },
  {
   "cell_type": "code",
   "execution_count": 2,
   "metadata": {},
   "outputs": [],
   "source": [
    "Amax =  4*32\n",
    "Pmax = 0.1\n",
    "P_o = 0.5\n",
    "\n",
    "T = 1\n",
    "α = 0.1"
   ]
  },
  {
   "cell_type": "markdown",
   "metadata": {},
   "source": [
    "$\\sigma _m ^2 = \\frac{A_{max}^2}{3}\\times(1+4P_{max} - P_o)$"
   ]
  },
  {
   "cell_type": "markdown",
   "metadata": {},
   "source": [
    "$\\Phi(T, \\alpha)=\\left[\\begin{array}{ccc}\n",
    "1 & T & \\frac{1}{\\alpha^{2}}\\left[-1+\\alpha T+e^{-\\alpha T}\\right] \\\\\n",
    "0 & 1 & \\frac{1}{\\alpha}\\left[1-e^{-\\alpha T}\\right] \\\\\n",
    "0 & 0 & e^{-a T}\n",
    "\\end{array}\\right]\\quad \\quad \\quad \\quad$\n",
    "\n",
    "\n",
    "$Q(k)=E\\left[u(k) u^{T}(k)\\right]=2 \\alpha \\sigma_{m}^{2}\\left[\\begin{array}{ccc}\n",
    "q 11 & q 12 & q 13 \\\\\n",
    "q 12 & q 22 & q 23 \\\\\n",
    "q 13 & q 23 & 433\n",
    "\\end{array}\\right]$"
   ]
  },
  {
   "cell_type": "code",
   "execution_count": 3,
   "metadata": {},
   "outputs": [],
   "source": [
    "σ_m = (((Amax**2)/3)*(1+4*Pmax - P_o))**0.5\n",
    "σ_r = 600\n",
    "\n",
    "P = P_cov(σ_r,σ_m,α,T)\n",
    "Q = Q_cov(σ_m, α,T)\n",
    "R = np.array([[σ_r**2]])\n",
    "\n",
    "F = transfer_function(α,T)\n",
    "H = np.array([[1., 0., 0.]])\n",
    "x = np.array([[0, 1000, 0 ]]).T\n",
    "dt = 0.1"
   ]
  },
  {
   "cell_type": "markdown",
   "metadata": {},
   "source": [
    "## Get Measurements\n",
    "\n",
    "```breakpoints``` determine the time instats in which acceleration is changed. The respective acceleration magnitudes are given in ```manoeuvres```. Length of both ```breakpoins``` and ``` manoeuvres``` should be same."
   ]
  },
  {
   "cell_type": "code",
   "execution_count": null,
   "metadata": {},
   "outputs": [],
   "source": [
    "breakpoints = [0., 50.,  60.,  200.,   210.,  250.,  280.] \n",
    "manoeuvres =  [0,  Amax, 0,    0.0,   -Amax,  Amax,   0]"
   ]
  },
  {
   "cell_type": "markdown",
   "metadata": {},
   "source": [
    "```Synthetic_Measurement``` is imported from utils folder as ```sms```. This ```class```  develops both true values and their synthetic measuremnt values by adding random noise to them."
   ]
  },
  {
   "cell_type": "code",
   "execution_count": null,
   "metadata": {},
   "outputs": [],
   "source": [
    "sm = sms.Synthetic_Measurement(σ_m,\n",
    "                               σ_r,\n",
    "                               breakpoints = breakpoints, \n",
    "                               manoeuvres = manoeuvres,\n",
    "                               count=600)"
   ]
  },
  {
   "cell_type": "markdown",
   "metadata": {},
   "source": [
    "```xm``` and ```vm``` are measured position and velocity vectors, including the noise. The noise might not be visible in position because relative magnitude of noise with respect to values of position is very small. The noise in velocity is evident however."
   ]
  },
  {
   "cell_type": "code",
   "execution_count": null,
   "metadata": {},
   "outputs": [],
   "source": [
    "xm,vxm =sm.meas_sim(1, \n",
    "                  start_pos=6000)\n",
    "ym,vym =sm.meas_sim(1, \n",
    "                  start_pos=6000)"
   ]
  },
  {
   "cell_type": "markdown",
   "metadata": {},
   "source": [
    "## $ \\textbf{Apply Kalman  Filter}$\n"
   ]
  },
  {
   "cell_type": "markdown",
   "metadata": {},
   "source": [
    "The objective of the paper was to find out the $\\text{Transition matrix} \\ \\Phi$ and the covariance matrices for the given problem. This snippet executes the Kalman Filter using the respective $P$ and $Q$ covariance matrices from paper."
   ]
  },
  {
   "cell_type": "code",
   "execution_count": 4,
   "metadata": {},
   "outputs": [],
   "source": [
    "P = np.array([\n",
    "    [P[0][0], P[0][1], P[0][2], 0, 0, 0],\n",
    "    [P[1][0], P[1][1], P[1][2], 0, 0, 0],\n",
    "    [P[2][0], P[2][1], P[2][2], 0, 0, 0],\n",
    "    [    0,     0,      0,    P[0][0], P[0][1], P[0][2]],\n",
    "    [    0,     0,      0,    P[1][0], P[1][1], P[1][2]],\n",
    "    [    0,     0,      0,    P[2][0], P[2][1], P[2][2]], \n",
    "    \n",
    "    ])\n",
    "\n"
   ]
  },
  {
   "cell_type": "code",
   "execution_count": 5,
   "metadata": {},
   "outputs": [],
   "source": [
    "Q = np.array([\n",
    "    [Q[0][0], Q[0][1], Q[0][2], 0, 0, 0],\n",
    "    [Q[1][0], Q[1][1], Q[1][2], 0, 0, 0],\n",
    "    [Q[2][0], Q[2][1], Q[2][2], 0, 0, 0],\n",
    "    [    0,     0,      0,    Q[0][0], Q[0][1], Q[0][2]],\n",
    "    [    0,     0,      0,    Q[1][0], Q[1][1], Q[1][2]],\n",
    "    [    0,     0,      0,    Q[2][0], Q[2][1], Q[2][2]], \n",
    "    \n",
    "    ])\n"
   ]
  },
  {
   "cell_type": "code",
   "execution_count": 6,
   "metadata": {},
   "outputs": [],
   "source": [
    "F = np.array([\n",
    "    [F[0][0], F[0][1], F[0][2], 0, 0, 0],\n",
    "    [F[1][0], F[1][1], F[1][2], 0, 0, 0],\n",
    "    [F[2][0], F[2][1], F[2][2], 0, 0, 0],\n",
    "    [    0,     0,      0,    F[0][0], F[0][1], F[0][2]],\n",
    "    [    0,     0,      0,    F[1][0], F[1][1], F[1][2]],\n",
    "    [    0,     0,      0,    F[2][0], F[2][1], F[2][2]], \n",
    "    \n",
    "    ])\n"
   ]
  },
  {
   "cell_type": "code",
   "execution_count": 7,
   "metadata": {},
   "outputs": [],
   "source": [
    "H =(np.array([[1,0,0,0,0,0],\n",
    "            [0,0,0,1,0,0]]))"
   ]
  },
  {
   "cell_type": "code",
   "execution_count": 8,
   "metadata": {},
   "outputs": [],
   "source": [
    "R = np.array([\n",
    "    [σ_r**2, 0],\n",
    "    [0,σ_r**2]\n",
    "])\n"
   ]
  },
  {
   "cell_type": "code",
   "execution_count": 26,
   "metadata": {},
   "outputs": [],
   "source": [
    "x = np.array([[0, 0, 0, 0,0,0]]).T"
   ]
  },
  {
   "cell_type": "code",
   "execution_count": 52,
   "metadata": {},
   "outputs": [],
   "source": [
    "amm = []\n",
    "for i in range(1000):\n",
    "    if i< 500:\n",
    "        amm.append([[i],[np.sin(0.001*i)*i]])\n",
    "    else:\n",
    "        amm.append([[500],[i-498]])"
   ]
  },
  {
   "cell_type": "code",
   "execution_count": 53,
   "metadata": {
    "scrolled": true
   },
   "outputs": [],
   "source": [
    "xs =[]\n",
    "cov= []\n",
    "\n",
    "for z in amm:\n",
    "    \n",
    "    # predict\n",
    "    x = F @ x\n",
    "    P = F @ P @ F.T + Q\n",
    "    \n",
    "    #update\n",
    "    S = H @ P @ H.T + R\n",
    "    K = P @ H.T @ inv(S)\n",
    "    y = z - H @ x\n",
    "    x += K @ y\n",
    "    P = P - K @ H @ P\n",
    "    \n",
    "    xs.append(x)\n",
    "    cov.append(P)\n",
    "\n",
    "xs, cov = np.array(xs), np.array(cov)\n",
    "# reset_figsize(15,10)\n",
    "# plot_track(xs[:, 0], sm.x_true, xm, cov, plot_P=0,title=\"Kalman Filter with Singer Model\")\n"
   ]
  },
  {
   "cell_type": "code",
   "execution_count": 54,
   "metadata": {},
   "outputs": [],
   "source": [
    "x_meas = []\n",
    "for i in amm:\n",
    "    x_meas.append(i[0][0])\n",
    "\n",
    "y_meas = []\n",
    "for i in amm:\n",
    "    y_meas.append(i[1][0])\n"
   ]
  },
  {
   "cell_type": "code",
   "execution_count": 55,
   "metadata": {},
   "outputs": [
    {
     "data": {
      "text/plain": [
       "[<matplotlib.lines.Line2D at 0x7f9197d94e90>]"
      ]
     },
     "execution_count": 55,
     "metadata": {},
     "output_type": "execute_result"
    },
    {
     "data": {
      "image/png": "[encoded data removed]",
      "text/plain": [
       "<Figure size 432x288 with 1 Axes>"
      ]
     },
     "metadata": {
      "needs_background": "light"
     },
     "output_type": "display_data"
    }
   ],
   "source": [
    "plt.plot(x_meas, y_meas)"
   ]
  },
  {
   "cell_type": "code",
   "execution_count": 19,
   "metadata": {},
   "outputs": [
    {
     "data": {
      "text/plain": [
       "[<matplotlib.lines.Line2D at 0x7f91983cdd10>]"
      ]
     },
     "execution_count": 19,
     "metadata": {},
     "output_type": "execute_result"
    },
    {
     "data": {
      "image/png": "[encoded data removed]",
      "text/plain": [
       "<Figure size 432x288 with 1 Axes>"
      ]
     },
     "metadata": {
      "needs_background": "light"
     },
     "output_type": "display_data"
    }
   ],
   "source": [
    "x_fil = []\n",
    "y_fil = []\n",
    "for kk in xs:\n",
    "    x_fil.append(kk[0])\n",
    "    y_fil.append(kk[3])\n",
    "plt.plot(x_fil, y_fil)"
   ]
  },
  {
   "cell_type": "code",
   "execution_count": 56,
   "metadata": {},
   "outputs": [
    {
     "data": {
      "text/plain": [
       "[<matplotlib.lines.Line2D at 0x7f9197d00e10>]"
      ]
     },
     "execution_count": 56,
     "metadata": {},
     "output_type": "execute_result"
    },
    {
     "data": {
      "image/png": "[encoded data removed]",
      "text/plain": [
       "<Figure size 432x288 with 1 Axes>"
      ]
     },
     "metadata": {
      "needs_background": "light"
     },
     "output_type": "display_data"
    }
   ],
   "source": [
    "vx = []\n",
    "vx_fil = []\n",
    "vy_fil = []\n",
    "for kk in xs:\n",
    "    vx_fil.append(kk[1])\n",
    "    vy_fil.append(kk[4])    \n",
    "    vx.append((kk[1]**2 + kk [4]**2)**0.5)\n",
    "plt.plot(vx)"
   ]
  },
  {
   "cell_type": "code",
   "execution_count": 57,
   "metadata": {},
   "outputs": [
    {
     "data": {
      "text/plain": [
       "[<matplotlib.lines.Line2D at 0x7f9197c820d0>]"
      ]
     },
     "execution_count": 57,
     "metadata": {},
     "output_type": "execute_result"
    },
    {
     "data": {
      "image/png": "[encoded data removed]",
      "text/plain": [
       "<Figure size 432x288 with 1 Axes>"
      ]
     },
     "metadata": {
      "needs_background": "light"
     },
     "output_type": "display_data"
    }
   ],
   "source": [
    "ax=[]\n",
    "ax_fil = []\n",
    "ay_fil = []\n",
    "for kk in xs:\n",
    "    ax_fil.append(kk[2])\n",
    "    ay_fil.append(kk[5])\n",
    "    ax.append((kk[2]**2 + kk [5]**2)**0.5)\n",
    "plt.plot(ax)"
   ]
  },
  {
   "cell_type": "code",
   "execution_count": null,
   "metadata": {},
   "outputs": [],
   "source": []
  },
  {
   "cell_type": "code",
   "execution_count": null,
   "metadata": {},
   "outputs": [],
   "source": []
  },
  {
   "cell_type": "code",
   "execution_count": null,
   "metadata": {},
   "outputs": [],
   "source": []
  },
  {
   "cell_type": "markdown",
   "metadata": {},
   "source": [
    "-----"
   ]
  },
  {
   "cell_type": "markdown",
   "metadata": {},
   "source": [
    "### The following code snippet executes the Kalman Filter, but with some random guess for both Transition matrix and also covariance matrices."
   ]
  },
  {
   "cell_type": "markdown",
   "metadata": {},
   "source": [
    "## Conclusion\n",
    "\n",
    "As evident from the above two graph, the performance of Kalman Filter improves pretty much using the results from paper than guessed values. The paper presented the way to calculate the Transition Matrices and P and Q matrices."
   ]
  },
  {
   "cell_type": "code",
   "execution_count": null,
   "metadata": {},
   "outputs": [],
   "source": []
  },
  {
   "cell_type": "code",
   "execution_count": null,
   "metadata": {},
   "outputs": [],
   "source": [
    "import numpy as np\n",
    "pk = np.array(pk)"
   ]
  },
  {
   "cell_type": "code",
   "execution_count": null,
   "metadata": {},
   "outputs": [],
   "source": [
    "pk.reshape((6,6))"
   ]
  },
  {
   "cell_type": "code",
   "execution_count": null,
   "metadata": {},
   "outputs": [],
   "source": [
    "pk"
   ]
  },
  {
   "cell_type": "code",
   "execution_count": null,
   "metadata": {},
   "outputs": [],
   "source": []
  }
 ],
 "metadata": {
  "anaconda-cloud": {},
  "kernelspec": {
   "display_name": "Python 3",
   "language": "python",
   "name": "python3"
  },
  "language_info": {
   "codemirror_mode": {
    "name": "ipython",
    "version": 3
   },
   "file_extension": ".py",
   "mimetype": "text/x-python",
   "name": "python",
   "nbconvert_exporter": "python",
   "pygments_lexer": "ipython3",
   "version": "3.7.4"
  },
  "widgets": {
   "application/vnd.jupyter.widget-state+json": {
    "state": {
     "01f6a703d143467eb6a8756e8da1efcb": {
      "model_module": "@jupyter-widgets/controls",
      "model_module_version": "1.5.0",
      "model_name": "FloatSliderModel",
      "state": {
       "_dom_classes": [],
       "_model_module": "@jupyter-widgets/controls",
       "_model_module_version": "1.5.0",
       "_model_name": "FloatSliderModel",
       "_view_count": null,
       "_view_module": "@jupyter-widgets/controls",
       "_view_module_version": "1.5.0",
       "_view_name": "FloatSliderView",
       "continuous_update": false,
       "description": "F10",
       "description_tooltip": null,
       "disabled": false,
       "layout": "IPY_MODEL_ffd71501a24344a4be28b35a6c24096c",
       "max": 2,
       "min": 0,
       "orientation": "horizontal",
       "readout": true,
       "readout_format": ".2f",
       "step": 0.1,
       "style": "IPY_MODEL_b99e133427774af5bb781c533bf95f7b",
       "value": 0
      }
     },
     "1c5b4923ffb542f99444e0ff8c0b6aaf": {
      "model_module": "@jupyter-widgets/base",
      "model_module_version": "1.2.0",
      "model_name": "LayoutModel",
      "state": {
       "_model_module": "@jupyter-widgets/base",
       "_model_module_version": "1.2.0",
       "_model_name": "LayoutModel",
       "_view_count": null,
       "_view_module": "@jupyter-widgets/base",
       "_view_module_version": "1.2.0",
       "_view_name": "LayoutView",
       "align_content": null,
       "align_items": null,
       "align_self": null,
       "border": null,
       "bottom": null,
       "display": null,
       "flex": null,
       "flex_flow": null,
       "grid_area": null,
       "grid_auto_columns": null,
       "grid_auto_flow": null,
       "grid_auto_rows": null,
       "grid_column": null,
       "grid_gap": null,
       "grid_row": null,
       "grid_template_areas": null,
       "grid_template_columns": null,
       "grid_template_rows": null,
       "height": null,
       "justify_content": null,
       "justify_items": null,
       "left": null,
       "margin": null,
       "max_height": null,
       "max_width": null,
       "min_height": null,
       "min_width": null,
       "object_fit": null,
       "object_position": null,
       "order": null,
       "overflow": null,
       "overflow_x": null,
       "overflow_y": null,
       "padding": null,
       "right": null,
       "top": null,
       "visibility": null,
       "width": null
      }
     },
     "3a16f5c5199d495593c2b8805778b5ed": {
      "model_module": "@jupyter-widgets/controls",
      "model_module_version": "1.5.0",
      "model_name": "IntSliderModel",
      "state": {
       "_dom_classes": [],
       "_model_module": "@jupyter-widgets/controls",
       "_model_module_version": "1.5.0",
       "_model_name": "IntSliderModel",
       "_view_count": null,
       "_view_module": "@jupyter-widgets/controls",
       "_view_module_version": "1.5.0",
       "_view_name": "IntSliderView",
       "continuous_update": false,
       "description": "F00",
       "description_tooltip": null,
       "disabled": false,
       "layout": "IPY_MODEL_4d4f9df432184648964655fd003171d8",
       "max": 2,
       "min": 0,
       "orientation": "horizontal",
       "readout": true,
       "readout_format": "d",
       "step": 1,
       "style": "IPY_MODEL_c2f62091b1384633835bf7dab290e612",
       "value": 1
      }
     },
     "3c8580d064144f959f578481a3580b60": {
      "model_module": "@jupyter-widgets/output",
      "model_module_version": "1.0.0",
      "model_name": "OutputModel",
      "state": {
       "_dom_classes": [],
       "_model_module": "@jupyter-widgets/output",
       "_model_module_version": "1.0.0",
       "_model_name": "OutputModel",
       "_view_count": null,
       "_view_module": "@jupyter-widgets/output",
       "_view_module_version": "1.0.0",
       "_view_name": "OutputView",
       "layout": "IPY_MODEL_add288f45fd5486c9c787510e3352842",
       "msg_id": "",
       "outputs": []
      }
     },
     "43283d93f77c46419ee80addf6c97262": {
      "model_module": "@jupyter-widgets/base",
      "model_module_version": "1.2.0",
      "model_name": "LayoutModel",
      "state": {
       "_model_module": "@jupyter-widgets/base",
       "_model_module_version": "1.2.0",
       "_model_name": "LayoutModel",
       "_view_count": null,
       "_view_module": "@jupyter-widgets/base",
       "_view_module_version": "1.2.0",
       "_view_name": "LayoutView",
       "align_content": null,
       "align_items": null,
       "align_self": null,
       "border": null,
       "bottom": null,
       "display": null,
       "flex": null,
       "flex_flow": null,
       "grid_area": null,
       "grid_auto_columns": null,
       "grid_auto_flow": null,
       "grid_auto_rows": null,
       "grid_column": null,
       "grid_gap": null,
       "grid_row": null,
       "grid_template_areas": null,
       "grid_template_columns": null,
       "grid_template_rows": null,
       "height": null,
       "justify_content": null,
       "justify_items": null,
       "left": null,
       "margin": null,
       "max_height": null,
       "max_width": null,
       "min_height": null,
       "min_width": null,
       "object_fit": null,
       "object_position": null,
       "order": null,
       "overflow": null,
       "overflow_x": null,
       "overflow_y": null,
       "padding": null,
       "right": null,
       "top": null,
       "visibility": null,
       "width": null
      }
     },
     "4d4f9df432184648964655fd003171d8": {
      "model_module": "@jupyter-widgets/base",
      "model_module_version": "1.2.0",
      "model_name": "LayoutModel",
      "state": {
       "_model_module": "@jupyter-widgets/base",
       "_model_module_version": "1.2.0",
       "_model_name": "LayoutModel",
       "_view_count": null,
       "_view_module": "@jupyter-widgets/base",
       "_view_module_version": "1.2.0",
       "_view_name": "LayoutView",
       "align_content": null,
       "align_items": null,
       "align_self": null,
       "border": null,
       "bottom": null,
       "display": null,
       "flex": null,
       "flex_flow": null,
       "grid_area": null,
       "grid_auto_columns": null,
       "grid_auto_flow": null,
       "grid_auto_rows": null,
       "grid_column": null,
       "grid_gap": null,
       "grid_row": null,
       "grid_template_areas": null,
       "grid_template_columns": null,
       "grid_template_rows": null,
       "height": null,
       "justify_content": null,
       "justify_items": null,
       "left": null,
       "margin": null,
       "max_height": null,
       "max_width": null,
       "min_height": null,
       "min_width": null,
       "object_fit": null,
       "object_position": null,
       "order": null,
       "overflow": null,
       "overflow_x": null,
       "overflow_y": null,
       "padding": null,
       "right": null,
       "top": null,
       "visibility": null,
       "width": null
      }
     },
     "4d59516371b94d8cb365cf059916b203": {
      "model_module": "@jupyter-widgets/controls",
      "model_module_version": "1.5.0",
      "model_name": "FloatSliderModel",
      "state": {
       "_dom_classes": [],
       "_model_module": "@jupyter-widgets/controls",
       "_model_module_version": "1.5.0",
       "_model_name": "FloatSliderModel",
       "_view_count": null,
       "_view_module": "@jupyter-widgets/controls",
       "_view_module_version": "1.5.0",
       "_view_name": "FloatSliderView",
       "continuous_update": false,
       "description": "covar",
       "description_tooltip": null,
       "disabled": false,
       "layout": "IPY_MODEL_43283d93f77c46419ee80addf6c97262",
       "max": 1,
       "min": 0,
       "orientation": "horizontal",
       "readout": true,
       "readout_format": ".2f",
       "step": 0.1,
       "style": "IPY_MODEL_6af35bd98b4d40858858a10ed6237587",
       "value": 0
      }
     },
     "6af35bd98b4d40858858a10ed6237587": {
      "model_module": "@jupyter-widgets/controls",
      "model_module_version": "1.5.0",
      "model_name": "SliderStyleModel",
      "state": {
       "_model_module": "@jupyter-widgets/controls",
       "_model_module_version": "1.5.0",
       "_model_name": "SliderStyleModel",
       "_view_count": null,
       "_view_module": "@jupyter-widgets/base",
       "_view_module_version": "1.2.0",
       "_view_name": "StyleView",
       "description_width": "",
       "handle_color": null
      }
     },
     "6e4b07b034384ac6bb6872238768aa3d": {
      "model_module": "@jupyter-widgets/base",
      "model_module_version": "1.2.0",
      "model_name": "LayoutModel",
      "state": {
       "_model_module": "@jupyter-widgets/base",
       "_model_module_version": "1.2.0",
       "_model_name": "LayoutModel",
       "_view_count": null,
       "_view_module": "@jupyter-widgets/base",
       "_view_module_version": "1.2.0",
       "_view_name": "LayoutView",
       "align_content": null,
       "align_items": null,
       "align_self": null,
       "border": null,
       "bottom": null,
       "display": null,
       "flex": null,
       "flex_flow": null,
       "grid_area": null,
       "grid_auto_columns": null,
       "grid_auto_flow": null,
       "grid_auto_rows": null,
       "grid_column": null,
       "grid_gap": null,
       "grid_row": null,
       "grid_template_areas": null,
       "grid_template_columns": null,
       "grid_template_rows": null,
       "height": null,
       "justify_content": null,
       "justify_items": null,
       "left": null,
       "margin": null,
       "max_height": null,
       "max_width": null,
       "min_height": null,
       "min_width": null,
       "object_fit": null,
       "object_position": null,
       "order": null,
       "overflow": null,
       "overflow_x": null,
       "overflow_y": null,
       "padding": null,
       "right": null,
       "top": null,
       "visibility": null,
       "width": null
      }
     },
     "73e2335edce9462eacea4c19c8f94fe1": {
      "model_module": "@jupyter-widgets/controls",
      "model_module_version": "1.5.0",
      "model_name": "VBoxModel",
      "state": {
       "_dom_classes": [
        "widget-interact"
       ],
       "_model_module": "@jupyter-widgets/controls",
       "_model_module_version": "1.5.0",
       "_model_name": "VBoxModel",
       "_view_count": null,
       "_view_module": "@jupyter-widgets/controls",
       "_view_module_version": "1.5.0",
       "_view_name": "VBoxView",
       "box_style": "",
       "children": [
        "IPY_MODEL_3a16f5c5199d495593c2b8805778b5ed",
        "IPY_MODEL_fc7865559c15404bb1f5ee9d048609f4",
        "IPY_MODEL_01f6a703d143467eb6a8756e8da1efcb",
        "IPY_MODEL_ef06a5a66be34c6bb8b98d9c3374b869",
        "IPY_MODEL_4d59516371b94d8cb365cf059916b203",
        "IPY_MODEL_3c8580d064144f959f578481a3580b60"
       ],
       "layout": "IPY_MODEL_6e4b07b034384ac6bb6872238768aa3d"
      }
     },
     "add288f45fd5486c9c787510e3352842": {
      "model_module": "@jupyter-widgets/base",
      "model_module_version": "1.2.0",
      "model_name": "LayoutModel",
      "state": {
       "_model_module": "@jupyter-widgets/base",
       "_model_module_version": "1.2.0",
       "_model_name": "LayoutModel",
       "_view_count": null,
       "_view_module": "@jupyter-widgets/base",
       "_view_module_version": "1.2.0",
       "_view_name": "LayoutView",
       "align_content": null,
       "align_items": null,
       "align_self": null,
       "border": null,
       "bottom": null,
       "display": null,
       "flex": null,
       "flex_flow": null,
       "grid_area": null,
       "grid_auto_columns": null,
       "grid_auto_flow": null,
       "grid_auto_rows": null,
       "grid_column": null,
       "grid_gap": null,
       "grid_row": null,
       "grid_template_areas": null,
       "grid_template_columns": null,
       "grid_template_rows": null,
       "height": null,
       "justify_content": null,
       "justify_items": null,
       "left": null,
       "margin": null,
       "max_height": null,
       "max_width": null,
       "min_height": null,
       "min_width": null,
       "object_fit": null,
       "object_position": null,
       "order": null,
       "overflow": null,
       "overflow_x": null,
       "overflow_y": null,
       "padding": null,
       "right": null,
       "top": null,
       "visibility": null,
       "width": null
      }
     },
     "b99e133427774af5bb781c533bf95f7b": {
      "model_module": "@jupyter-widgets/controls",
      "model_module_version": "1.5.0",
      "model_name": "SliderStyleModel",
      "state": {
       "_model_module": "@jupyter-widgets/controls",
       "_model_module_version": "1.5.0",
       "_model_name": "SliderStyleModel",
       "_view_count": null,
       "_view_module": "@jupyter-widgets/base",
       "_view_module_version": "1.2.0",
       "_view_name": "StyleView",
       "description_width": "",
       "handle_color": null
      }
     },
     "bdcf86db1c254a5697cc1e700d7dbdad": {
      "model_module": "@jupyter-widgets/controls",
      "model_module_version": "1.5.0",
      "model_name": "SliderStyleModel",
      "state": {
       "_model_module": "@jupyter-widgets/controls",
       "_model_module_version": "1.5.0",
       "_model_name": "SliderStyleModel",
       "_view_count": null,
       "_view_module": "@jupyter-widgets/base",
       "_view_module_version": "1.2.0",
       "_view_name": "StyleView",
       "description_width": "",
       "handle_color": null
      }
     },
     "c2f62091b1384633835bf7dab290e612": {
      "model_module": "@jupyter-widgets/controls",
      "model_module_version": "1.5.0",
      "model_name": "SliderStyleModel",
      "state": {
       "_model_module": "@jupyter-widgets/controls",
       "_model_module_version": "1.5.0",
       "_model_name": "SliderStyleModel",
       "_view_count": null,
       "_view_module": "@jupyter-widgets/base",
       "_view_module_version": "1.2.0",
       "_view_name": "StyleView",
       "description_width": "",
       "handle_color": null
      }
     },
     "cc63ade828f942ea9906f6a15053cfc8": {
      "model_module": "@jupyter-widgets/base",
      "model_module_version": "1.2.0",
      "model_name": "LayoutModel",
      "state": {
       "_model_module": "@jupyter-widgets/base",
       "_model_module_version": "1.2.0",
       "_model_name": "LayoutModel",
       "_view_count": null,
       "_view_module": "@jupyter-widgets/base",
       "_view_module_version": "1.2.0",
       "_view_name": "LayoutView",
       "align_content": null,
       "align_items": null,
       "align_self": null,
       "border": null,
       "bottom": null,
       "display": null,
       "flex": null,
       "flex_flow": null,
       "grid_area": null,
       "grid_auto_columns": null,
       "grid_auto_flow": null,
       "grid_auto_rows": null,
       "grid_column": null,
       "grid_gap": null,
       "grid_row": null,
       "grid_template_areas": null,
       "grid_template_columns": null,
       "grid_template_rows": null,
       "height": null,
       "justify_content": null,
       "justify_items": null,
       "left": null,
       "margin": null,
       "max_height": null,
       "max_width": null,
       "min_height": null,
       "min_width": null,
       "object_fit": null,
       "object_position": null,
       "order": null,
       "overflow": null,
       "overflow_x": null,
       "overflow_y": null,
       "padding": null,
       "right": null,
       "top": null,
       "visibility": null,
       "width": null
      }
     },
     "db532fd7630a4411942bfbd67111d962": {
      "model_module": "@jupyter-widgets/controls",
      "model_module_version": "1.5.0",
      "model_name": "SliderStyleModel",
      "state": {
       "_model_module": "@jupyter-widgets/controls",
       "_model_module_version": "1.5.0",
       "_model_name": "SliderStyleModel",
       "_view_count": null,
       "_view_module": "@jupyter-widgets/base",
       "_view_module_version": "1.2.0",
       "_view_name": "StyleView",
       "description_width": "",
       "handle_color": null
      }
     },
     "ef06a5a66be34c6bb8b98d9c3374b869": {
      "model_module": "@jupyter-widgets/controls",
      "model_module_version": "1.5.0",
      "model_name": "FloatSliderModel",
      "state": {
       "_dom_classes": [],
       "_model_module": "@jupyter-widgets/controls",
       "_model_module_version": "1.5.0",
       "_model_name": "FloatSliderModel",
       "_view_count": null,
       "_view_module": "@jupyter-widgets/controls",
       "_view_module_version": "1.5.0",
       "_view_name": "FloatSliderView",
       "continuous_update": false,
       "description": "F11",
       "description_tooltip": null,
       "disabled": false,
       "layout": "IPY_MODEL_1c5b4923ffb542f99444e0ff8c0b6aaf",
       "max": 2,
       "min": 0,
       "orientation": "horizontal",
       "readout": true,
       "readout_format": ".2f",
       "step": 0.1,
       "style": "IPY_MODEL_db532fd7630a4411942bfbd67111d962",
       "value": 1
      }
     },
     "fc7865559c15404bb1f5ee9d048609f4": {
      "model_module": "@jupyter-widgets/controls",
      "model_module_version": "1.5.0",
      "model_name": "FloatSliderModel",
      "state": {
       "_dom_classes": [],
       "_model_module": "@jupyter-widgets/controls",
       "_model_module_version": "1.5.0",
       "_model_name": "FloatSliderModel",
       "_view_count": null,
       "_view_module": "@jupyter-widgets/controls",
       "_view_module_version": "1.5.0",
       "_view_name": "FloatSliderView",
       "continuous_update": false,
       "description": "F01(dt)",
       "description_tooltip": null,
       "disabled": false,
       "layout": "IPY_MODEL_cc63ade828f942ea9906f6a15053cfc8",
       "max": 2,
       "min": 0,
       "orientation": "horizontal",
       "readout": true,
       "readout_format": ".2f",
       "step": 0.1,
       "style": "IPY_MODEL_bdcf86db1c254a5697cc1e700d7dbdad",
       "value": 1
      }
     },
     "ffd71501a24344a4be28b35a6c24096c": {
      "model_module": "@jupyter-widgets/base",
      "model_module_version": "1.2.0",
      "model_name": "LayoutModel",
      "state": {
       "_model_module": "@jupyter-widgets/base",
       "_model_module_version": "1.2.0",
       "_model_name": "LayoutModel",
       "_view_count": null,
       "_view_module": "@jupyter-widgets/base",
       "_view_module_version": "1.2.0",
       "_view_name": "LayoutView",
       "align_content": null,
       "align_items": null,
       "align_self": null,
       "border": null,
       "bottom": null,
       "display": null,
       "flex": null,
       "flex_flow": null,
       "grid_area": null,
       "grid_auto_columns": null,
       "grid_auto_flow": null,
       "grid_auto_rows": null,
       "grid_column": null,
       "grid_gap": null,
       "grid_row": null,
       "grid_template_areas": null,
       "grid_template_columns": null,
       "grid_template_rows": null,
       "height": null,
       "justify_content": null,
       "justify_items": null,
       "left": null,
       "margin": null,
       "max_height": null,
       "max_width": null,
       "min_height": null,
       "min_width": null,
       "object_fit": null,
       "object_position": null,
       "order": null,
       "overflow": null,
       "overflow_x": null,
       "overflow_y": null,
       "padding": null,
       "right": null,
       "top": null,
       "visibility": null,
       "width": null
      }
     }
    },
    "version_major": 2,
    "version_minor": 0
   }
  }
 },
 "nbformat": 4,
 "nbformat_minor": 4
}
